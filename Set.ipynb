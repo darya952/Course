{
 "cells": [
  {
   "cell_type": "code",
   "execution_count": 1,
   "id": "a7e492f6-e653-4467-bb88-83e53d8ddc79",
   "metadata": {
    "tags": []
   },
   "outputs": [],
   "source": [
    "empty_set = set()"
   ]
  },
  {
   "cell_type": "code",
   "execution_count": 2,
   "id": "b759fbe4-6de3-4210-a6b8-327183eaaeeb",
   "metadata": {},
   "outputs": [
    {
     "data": {
      "text/plain": [
       "set()"
      ]
     },
     "execution_count": 2,
     "metadata": {},
     "output_type": "execute_result"
    }
   ],
   "source": [
    "empty_set"
   ]
  },
  {
   "cell_type": "code",
   "execution_count": 3,
   "id": "80cea61a-cb26-4842-9853-3dfb1a392731",
   "metadata": {},
   "outputs": [
    {
     "data": {
      "text/plain": [
       "set"
      ]
     },
     "execution_count": 3,
     "metadata": {},
     "output_type": "execute_result"
    }
   ],
   "source": [
    "type(empty_set)"
   ]
  },
  {
   "cell_type": "code",
   "execution_count": 4,
   "id": "3f241e1d-a87b-44f5-8a64-7d1160211ecf",
   "metadata": {},
   "outputs": [],
   "source": [
    "empty_set2 = {}"
   ]
  },
  {
   "cell_type": "code",
   "execution_count": 5,
   "id": "fe9e0ae8-fb45-414e-8d21-fb1f0758fda2",
   "metadata": {},
   "outputs": [
    {
     "data": {
      "text/plain": [
       "{}"
      ]
     },
     "execution_count": 5,
     "metadata": {},
     "output_type": "execute_result"
    }
   ],
   "source": [
    "empty_set2"
   ]
  },
  {
   "cell_type": "code",
   "execution_count": 6,
   "id": "2dd384dd-ef4d-4cf7-a25e-16d3827aa0f6",
   "metadata": {},
   "outputs": [
    {
     "data": {
      "text/plain": [
       "dict"
      ]
     },
     "execution_count": 6,
     "metadata": {},
     "output_type": "execute_result"
    }
   ],
   "source": [
    "type(empty_set2)"
   ]
  },
  {
   "cell_type": "code",
   "execution_count": 8,
   "id": "73ab8c46-91e2-4eb5-9988-0b3228af0cea",
   "metadata": {},
   "outputs": [
    {
     "data": {
      "text/plain": [
       "{'a', 'd', 't'}"
      ]
     },
     "execution_count": 8,
     "metadata": {},
     "output_type": "execute_result"
    }
   ],
   "source": [
    "new_set = set('data')\n",
    "new_set"
   ]
  },
  {
   "cell_type": "code",
   "execution_count": 9,
   "id": "44b0f9fd-076d-4d48-b6dc-52eb175ec340",
   "metadata": {},
   "outputs": [
    {
     "data": {
      "text/plain": [
       "{2, 3, 4, 5}"
      ]
     },
     "execution_count": 9,
     "metadata": {},
     "output_type": "execute_result"
    }
   ],
   "source": [
    "set([2,4,5,4,3,2])"
   ]
  },
  {
   "cell_type": "code",
   "execution_count": 10,
   "id": "8b594d39-8cfa-4456-b530-bae57c87f146",
   "metadata": {},
   "outputs": [],
   "source": [
    "set1 = {'Estonia', 'Lithuania', 'Latvia', 'Poland'}\n",
    "set2 = {'Sweden', 'Finland', 'Poland', 'Estonia'}"
   ]
  },
  {
   "cell_type": "code",
   "execution_count": 26,
   "id": "ded8abf8-1b30-47c0-87d7-1ed5be4af9c4",
   "metadata": {},
   "outputs": [
    {
     "data": {
      "text/plain": [
       "{'Denmark', 'Lithuania', 'Poland'}"
      ]
     },
     "execution_count": 26,
     "metadata": {},
     "output_type": "execute_result"
    }
   ],
   "source": [
    "set1"
   ]
  },
  {
   "cell_type": "code",
   "execution_count": 13,
   "id": "d4422acc-cf2e-4094-909a-a54ad495b2f7",
   "metadata": {},
   "outputs": [
    {
     "data": {
      "text/plain": [
       "set"
      ]
     },
     "execution_count": 13,
     "metadata": {},
     "output_type": "execute_result"
    }
   ],
   "source": [
    "type(set1)"
   ]
  },
  {
   "cell_type": "markdown",
   "id": "c9119a81-3ab0-4f67-b96f-9fb5d3beba88",
   "metadata": {},
   "source": [
    "**Set methods**"
   ]
  },
  {
   "cell_type": "code",
   "execution_count": 14,
   "id": "6cec2146-21e9-4071-bb9d-44548602f69d",
   "metadata": {},
   "outputs": [],
   "source": [
    "set1.add('Denmark')"
   ]
  },
  {
   "cell_type": "code",
   "execution_count": 22,
   "id": "73b775f3-4e17-4c1d-848e-88eb64428776",
   "metadata": {},
   "outputs": [
    {
     "data": {
      "text/plain": [
       "{'Denmark', 'Lithuania', 'Poland'}"
      ]
     },
     "execution_count": 22,
     "metadata": {},
     "output_type": "execute_result"
    }
   ],
   "source": [
    "set1"
   ]
  },
  {
   "cell_type": "code",
   "execution_count": 16,
   "id": "f030324d-72d6-45e3-b339-f6c1eb0234d1",
   "metadata": {},
   "outputs": [],
   "source": [
    "set1.add('Latvia')"
   ]
  },
  {
   "cell_type": "code",
   "execution_count": 24,
   "id": "7ba79730-e720-4b4e-bb04-3f81464e7007",
   "metadata": {},
   "outputs": [
    {
     "data": {
      "text/plain": [
       "{'Denmark', 'Lithuania', 'Poland'}"
      ]
     },
     "execution_count": 24,
     "metadata": {},
     "output_type": "execute_result"
    }
   ],
   "source": [
    "set1"
   ]
  },
  {
   "cell_type": "code",
   "execution_count": 18,
   "id": "028b51e8-b5b8-40ff-a5c1-e3d9bfd15ce2",
   "metadata": {},
   "outputs": [
    {
     "name": "stdout",
     "output_type": "stream",
     "text": [
      "{'Estonia', 'Denmark', 'Lithuania', 'Poland'}\n"
     ]
    }
   ],
   "source": [
    "set1.pop()\n",
    "print(set1)"
   ]
  },
  {
   "cell_type": "code",
   "execution_count": 19,
   "id": "2f4872fc-843a-4457-83ff-a136722f416b",
   "metadata": {},
   "outputs": [
    {
     "data": {
      "text/plain": [
       "'Estonia'"
      ]
     },
     "execution_count": 19,
     "metadata": {},
     "output_type": "execute_result"
    }
   ],
   "source": [
    "item = set1.pop()\n",
    "item"
   ]
  },
  {
   "cell_type": "code",
   "execution_count": 20,
   "id": "8e52ebf3-6ca8-41ed-823a-a0af1d663291",
   "metadata": {},
   "outputs": [
    {
     "data": {
      "text/plain": [
       "{'Denmark', 'Lithuania', 'Poland'}"
      ]
     },
     "execution_count": 20,
     "metadata": {},
     "output_type": "execute_result"
    }
   ],
   "source": [
    "set1"
   ]
  },
  {
   "cell_type": "code",
   "execution_count": 27,
   "id": "a0a21f43-f111-4efb-ad08-0b55b9e1e66e",
   "metadata": {},
   "outputs": [
    {
     "data": {
      "text/plain": [
       "{'Poland'}"
      ]
     },
     "execution_count": 27,
     "metadata": {},
     "output_type": "execute_result"
    }
   ],
   "source": [
    "set1.intersection(set2)"
   ]
  },
  {
   "cell_type": "raw",
   "id": "64c0f4a0-0412-426b-8903-c18c98909498",
   "metadata": {},
   "source": [
    "check above!!!!!"
   ]
  },
  {
   "cell_type": "code",
   "execution_count": 28,
   "id": "248a9da6-a6c6-4073-87e5-22a441b49142",
   "metadata": {},
   "outputs": [
    {
     "data": {
      "text/plain": [
       "{'Denmark', 'Lithuania'}"
      ]
     },
     "execution_count": 28,
     "metadata": {},
     "output_type": "execute_result"
    }
   ],
   "source": [
    "set1.difference(set2)"
   ]
  },
  {
   "cell_type": "code",
   "execution_count": 29,
   "id": "9da1c693-f6a4-4a99-8167-72f91f5a875c",
   "metadata": {},
   "outputs": [
    {
     "name": "stdout",
     "output_type": "stream",
     "text": [
      "{'Denmark', 'Lithuania', 'Poland'}\n",
      "{'Finland', 'Sweden', 'Estonia', 'Poland'}\n"
     ]
    }
   ],
   "source": [
    "print(set1)\n",
    "print(set2)"
   ]
  },
  {
   "cell_type": "code",
   "execution_count": 30,
   "id": "0f416588-5933-416a-b64a-be6a5da2119f",
   "metadata": {},
   "outputs": [
    {
     "data": {
      "text/plain": [
       "{'Denmark', 'Estonia', 'Finland', 'Lithuania', 'Poland', 'Sweden'}"
      ]
     },
     "execution_count": 30,
     "metadata": {},
     "output_type": "execute_result"
    }
   ],
   "source": [
    "set1.union(set2)"
   ]
  },
  {
   "cell_type": "code",
   "execution_count": 32,
   "id": "ad9b9734-a7ab-486b-ad03-ae805cbeeacb",
   "metadata": {},
   "outputs": [
    {
     "data": {
      "text/plain": [
       "{'Poland'}"
      ]
     },
     "execution_count": 32,
     "metadata": {},
     "output_type": "execute_result"
    }
   ],
   "source": [
    "# intersection\n",
    "set1 & set2 "
   ]
  },
  {
   "cell_type": "code",
   "execution_count": 33,
   "id": "41e04e9d-8499-425d-94a3-e761a29c7741",
   "metadata": {},
   "outputs": [],
   "source": [
    "# unpdate\n",
    "set1 |= set2"
   ]
  },
  {
   "cell_type": "code",
   "execution_count": 34,
   "id": "88419381-d09d-4ff1-85c5-155f76b0dd6a",
   "metadata": {},
   "outputs": [
    {
     "data": {
      "text/plain": [
       "{'Denmark', 'Estonia', 'Finland', 'Lithuania', 'Poland', 'Sweden'}"
      ]
     },
     "execution_count": 34,
     "metadata": {},
     "output_type": "execute_result"
    }
   ],
   "source": [
    "set1"
   ]
  },
  {
   "cell_type": "code",
   "execution_count": 35,
   "id": "dc092c90-7e5a-4a0d-801f-e7fa884b07a9",
   "metadata": {},
   "outputs": [
    {
     "data": {
      "text/plain": [
       "{'Estonia', 'Finland', 'Poland', 'Sweden'}"
      ]
     },
     "execution_count": 35,
     "metadata": {},
     "output_type": "execute_result"
    }
   ],
   "source": [
    "set2"
   ]
  },
  {
   "cell_type": "code",
   "execution_count": null,
   "id": "c3cb712c-c560-422e-be3b-3fdca27e5caa",
   "metadata": {},
   "outputs": [],
   "source": []
  }
 ],
 "metadata": {
  "kernelspec": {
   "display_name": "Python 3 (ipykernel)",
   "language": "python",
   "name": "python3"
  },
  "language_info": {
   "codemirror_mode": {
    "name": "ipython",
    "version": 3
   },
   "file_extension": ".py",
   "mimetype": "text/x-python",
   "name": "python",
   "nbconvert_exporter": "python",
   "pygments_lexer": "ipython3",
   "version": "3.11.1"
  }
 },
 "nbformat": 4,
 "nbformat_minor": 5
}
