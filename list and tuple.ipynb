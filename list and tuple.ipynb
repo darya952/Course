{
 "cells": [
  {
   "cell_type": "code",
   "execution_count": 1,
   "id": "8421f9d2-abca-49f1-b0ff-9340a09a9353",
   "metadata": {},
   "outputs": [],
   "source": [
    "empty_list = []"
   ]
  },
  {
   "cell_type": "code",
   "execution_count": 2,
   "id": "9738a979-f4cf-4ab7-abce-504b121057b4",
   "metadata": {},
   "outputs": [
    {
     "data": {
      "text/plain": [
       "[]"
      ]
     },
     "execution_count": 2,
     "metadata": {},
     "output_type": "execute_result"
    }
   ],
   "source": [
    "empty_list"
   ]
  },
  {
   "cell_type": "code",
   "execution_count": 3,
   "id": "d549268d-1c13-49b4-a1e0-a66bdd4f340c",
   "metadata": {},
   "outputs": [
    {
     "data": {
      "text/plain": [
       "False"
      ]
     },
     "execution_count": 3,
     "metadata": {},
     "output_type": "execute_result"
    }
   ],
   "source": [
    "bool(empty_list)"
   ]
  },
  {
   "cell_type": "code",
   "execution_count": 4,
   "id": "34fecbae-7791-4a1a-8f4a-a64498add066",
   "metadata": {},
   "outputs": [
    {
     "data": {
      "text/plain": [
       "list"
      ]
     },
     "execution_count": 4,
     "metadata": {},
     "output_type": "execute_result"
    }
   ],
   "source": [
    "type(empty_list)"
   ]
  },
  {
   "cell_type": "code",
   "execution_count": 5,
   "id": "53513ba2-92d4-4fc5-bbd8-b62c508aa82f",
   "metadata": {},
   "outputs": [],
   "source": [
    "not_empty_list = [1, 0.444, 'Hello', True, None, [1,2,3]]"
   ]
  },
  {
   "cell_type": "code",
   "execution_count": 6,
   "id": "72ff3261-90db-4207-8e54-b2cc9f1eacd3",
   "metadata": {},
   "outputs": [
    {
     "data": {
      "text/plain": [
       "[1, 0.444, 'Hello', True, None, [1, 2, 3]]"
      ]
     },
     "execution_count": 6,
     "metadata": {},
     "output_type": "execute_result"
    }
   ],
   "source": [
    "not_empty_list"
   ]
  },
  {
   "cell_type": "markdown",
   "id": "9b738518-0550-4f9a-b157-288283f5bb6d",
   "metadata": {
    "tags": []
   },
   "source": [
    "# List to variables"
   ]
  },
  {
   "cell_type": "code",
   "execution_count": 7,
   "id": "392f6c3d-3da7-4f5e-bd16-06cac9e447cc",
   "metadata": {},
   "outputs": [],
   "source": [
    "var1, var2, var3 = [1, 10, 100]"
   ]
  },
  {
   "cell_type": "code",
   "execution_count": 8,
   "id": "cdf908a0-77cb-4a39-8374-112e36cb1490",
   "metadata": {},
   "outputs": [
    {
     "data": {
      "text/plain": [
       "1"
      ]
     },
     "execution_count": 8,
     "metadata": {},
     "output_type": "execute_result"
    }
   ],
   "source": [
    "var1"
   ]
  },
  {
   "cell_type": "code",
   "execution_count": 9,
   "id": "e0d375d9-04a1-4ace-986b-c99b15b585a8",
   "metadata": {},
   "outputs": [
    {
     "data": {
      "text/plain": [
       "10"
      ]
     },
     "execution_count": 9,
     "metadata": {},
     "output_type": "execute_result"
    }
   ],
   "source": [
    "var2"
   ]
  },
  {
   "cell_type": "code",
   "execution_count": 10,
   "id": "728c0243-9b6a-4cc7-af54-ba30d368ee79",
   "metadata": {},
   "outputs": [
    {
     "data": {
      "text/plain": [
       "100"
      ]
     },
     "execution_count": 10,
     "metadata": {},
     "output_type": "execute_result"
    }
   ],
   "source": [
    "var3"
   ]
  },
  {
   "cell_type": "code",
   "execution_count": 11,
   "id": "929763d8-90a0-452d-906f-b1967a0910ed",
   "metadata": {},
   "outputs": [
    {
     "ename": "ValueError",
     "evalue": "too many values to unpack (expected 2)",
     "output_type": "error",
     "traceback": [
      "\u001b[1;31m---------------------------------------------------------------------------\u001b[0m",
      "\u001b[1;31mValueError\u001b[0m                                Traceback (most recent call last)",
      "Cell \u001b[1;32mIn[11], line 1\u001b[0m\n\u001b[1;32m----> 1\u001b[0m var1, var2 \u001b[38;5;241m=\u001b[39m [\u001b[38;5;241m1\u001b[39m,\u001b[38;5;241m2\u001b[39m,\u001b[38;5;241m3\u001b[39m]\n",
      "\u001b[1;31mValueError\u001b[0m: too many values to unpack (expected 2)"
     ]
    }
   ],
   "source": [
    "var1, var2 = [1,2,3]"
   ]
  },
  {
   "cell_type": "code",
   "execution_count": 12,
   "id": "4a31b20a-94f2-48ad-9376-271c5725c9e0",
   "metadata": {},
   "outputs": [],
   "source": [
    "var1, var2, *var3 = [1,2,3,4,5,6]"
   ]
  },
  {
   "cell_type": "code",
   "execution_count": 13,
   "id": "a6d1179e-ddef-445f-9069-348223bcd5ec",
   "metadata": {},
   "outputs": [
    {
     "data": {
      "text/plain": [
       "1"
      ]
     },
     "execution_count": 13,
     "metadata": {},
     "output_type": "execute_result"
    }
   ],
   "source": [
    "var1"
   ]
  },
  {
   "cell_type": "code",
   "execution_count": 14,
   "id": "683ec60d-e5bf-4dc4-a421-72c0e6efedf9",
   "metadata": {},
   "outputs": [
    {
     "data": {
      "text/plain": [
       "2"
      ]
     },
     "execution_count": 14,
     "metadata": {},
     "output_type": "execute_result"
    }
   ],
   "source": [
    "var2"
   ]
  },
  {
   "cell_type": "code",
   "execution_count": 15,
   "id": "22822ca6-fd12-42c9-97bc-0f2356c6b7c8",
   "metadata": {},
   "outputs": [
    {
     "data": {
      "text/plain": [
       "[3, 4, 5, 6]"
      ]
     },
     "execution_count": 15,
     "metadata": {},
     "output_type": "execute_result"
    }
   ],
   "source": [
    "var3"
   ]
  },
  {
   "cell_type": "code",
   "execution_count": 16,
   "id": "65612f8b-c38e-4fc8-b179-833767510857",
   "metadata": {},
   "outputs": [],
   "source": [
    "var1, *var2, var3, var4 = [1,2,3,4,5, 'a', 'b', 'c']"
   ]
  },
  {
   "cell_type": "code",
   "execution_count": 17,
   "id": "91bc5a32-4dad-46ce-8577-f75b327a1608",
   "metadata": {},
   "outputs": [
    {
     "data": {
      "text/plain": [
       "1"
      ]
     },
     "execution_count": 17,
     "metadata": {},
     "output_type": "execute_result"
    }
   ],
   "source": [
    "var1"
   ]
  },
  {
   "cell_type": "code",
   "execution_count": 18,
   "id": "9acfed72-9956-4fe9-879e-2090b915d7b8",
   "metadata": {},
   "outputs": [
    {
     "data": {
      "text/plain": [
       "[2, 3, 4, 5, 'a']"
      ]
     },
     "execution_count": 18,
     "metadata": {},
     "output_type": "execute_result"
    }
   ],
   "source": [
    "var2"
   ]
  },
  {
   "cell_type": "code",
   "execution_count": 19,
   "id": "70f27afc-7a56-46cc-bcce-da45187110f8",
   "metadata": {},
   "outputs": [
    {
     "data": {
      "text/plain": [
       "'b'"
      ]
     },
     "execution_count": 19,
     "metadata": {},
     "output_type": "execute_result"
    }
   ],
   "source": [
    "var3"
   ]
  },
  {
   "cell_type": "code",
   "execution_count": 20,
   "id": "acfd36cb-fb83-4b22-88f0-191cb2a4486d",
   "metadata": {},
   "outputs": [
    {
     "data": {
      "text/plain": [
       "'c'"
      ]
     },
     "execution_count": 20,
     "metadata": {},
     "output_type": "execute_result"
    }
   ],
   "source": [
    "var4"
   ]
  },
  {
   "cell_type": "code",
   "execution_count": 21,
   "id": "ce0271fe-c73c-4a54-af2f-81604ab8e1b6",
   "metadata": {},
   "outputs": [
    {
     "name": "stdout",
     "output_type": "stream",
     "text": [
      "[1, 0.444, 'Hello', True, None, [1, 2, 3]]\n"
     ]
    }
   ],
   "source": [
    "print(not_empty_list)"
   ]
  },
  {
   "cell_type": "code",
   "execution_count": 22,
   "id": "ced74ace-4bd5-4e6d-81a4-9958c8ceb7cf",
   "metadata": {},
   "outputs": [
    {
     "name": "stdout",
     "output_type": "stream",
     "text": [
      "1 0.444 Hello True None [1, 2, 3]\n"
     ]
    }
   ],
   "source": [
    "print(*not_empty_list)"
   ]
  },
  {
   "cell_type": "markdown",
   "id": "9fb871e2-8117-4d3f-865d-091b81a4b1eb",
   "metadata": {
    "tags": []
   },
   "source": [
    "# Indexing"
   ]
  },
  {
   "cell_type": "code",
   "execution_count": 23,
   "id": "055151c8-aa5a-4c7c-837b-5e124025d827",
   "metadata": {},
   "outputs": [
    {
     "data": {
      "text/plain": [
       "1"
      ]
     },
     "execution_count": 23,
     "metadata": {},
     "output_type": "execute_result"
    }
   ],
   "source": [
    "not_empty_list[0]"
   ]
  },
  {
   "cell_type": "code",
   "execution_count": 24,
   "id": "a919388a-dd26-44a5-ad6c-2c39a9c1b724",
   "metadata": {},
   "outputs": [
    {
     "data": {
      "text/plain": [
       "[1, 2, 3]"
      ]
     },
     "execution_count": 24,
     "metadata": {},
     "output_type": "execute_result"
    }
   ],
   "source": [
    "not_empty_list[-1]"
   ]
  },
  {
   "cell_type": "code",
   "execution_count": 25,
   "id": "36d06a10-ff15-4969-870c-ef9101bb1850",
   "metadata": {},
   "outputs": [
    {
     "data": {
      "text/plain": [
       "['Hello', True, None]"
      ]
     },
     "execution_count": 25,
     "metadata": {},
     "output_type": "execute_result"
    }
   ],
   "source": [
    "not_empty_list[2:5]"
   ]
  },
  {
   "cell_type": "code",
   "execution_count": 26,
   "id": "01b2e3b1-09e5-40a0-a789-789d3718bf68",
   "metadata": {},
   "outputs": [
    {
     "data": {
      "text/plain": [
       "[1, 'Hello']"
      ]
     },
     "execution_count": 26,
     "metadata": {},
     "output_type": "execute_result"
    }
   ],
   "source": [
    "not_empty_list[:-2:2]"
   ]
  },
  {
   "cell_type": "code",
   "execution_count": 27,
   "id": "62e330a4-84ae-4cb7-b347-dee3ce5eca7e",
   "metadata": {},
   "outputs": [],
   "source": [
    "not_empty_list[2] = 'Hi'"
   ]
  },
  {
   "cell_type": "code",
   "execution_count": 28,
   "id": "00ee7ca7-5032-4f9d-9c6b-063bcb54622c",
   "metadata": {},
   "outputs": [
    {
     "data": {
      "text/plain": [
       "[1, 0.444, 'Hi', True, None, [1, 2, 3]]"
      ]
     },
     "execution_count": 28,
     "metadata": {},
     "output_type": "execute_result"
    }
   ],
   "source": [
    "not_empty_list"
   ]
  },
  {
   "cell_type": "code",
   "execution_count": 29,
   "id": "f55590c3-f3d3-435e-b629-4defe97d0b0a",
   "metadata": {},
   "outputs": [
    {
     "data": {
      "text/plain": [
       "[1, 'A', 'B', None, [1, 2, 3]]"
      ]
     },
     "execution_count": 29,
     "metadata": {},
     "output_type": "execute_result"
    }
   ],
   "source": [
    "not_empty_list[1:4] = ['A', 'B']\n",
    "not_empty_list"
   ]
  },
  {
   "cell_type": "code",
   "execution_count": 30,
   "id": "a248ba1c-1693-4eec-9e0a-c3f50effda95",
   "metadata": {},
   "outputs": [
    {
     "data": {
      "text/plain": [
       "[1, 'A', 'B', 11, 12, 13, 14, 15]"
      ]
     },
     "execution_count": 30,
     "metadata": {},
     "output_type": "execute_result"
    }
   ],
   "source": [
    "not_empty_list[-2:] = [11,12,13,14,15]\n",
    "not_empty_list"
   ]
  },
  {
   "cell_type": "code",
   "execution_count": 32,
   "id": "0d24bf25-87d8-47d1-bc3b-561b8e114c0c",
   "metadata": {
    "tags": []
   },
   "outputs": [
    {
     "data": {
      "text/plain": [
       "[0, 'A', 1, 11, 2, 13, 4, 15]"
      ]
     },
     "execution_count": 32,
     "metadata": {},
     "output_type": "execute_result"
    }
   ],
   "source": [
    "not_empty_list[::2] = [0,1,2,4]\n",
    "not_empty_list"
   ]
  },
  {
   "cell_type": "code",
   "execution_count": 33,
   "id": "6085480a-63bc-445d-8672-f5fef97e13d4",
   "metadata": {},
   "outputs": [],
   "source": [
    "x, y, z = 10, True, 'ABC'"
   ]
  },
  {
   "cell_type": "code",
   "execution_count": 34,
   "id": "64c0a042-57bb-4c23-9b62-4ddb595890d9",
   "metadata": {},
   "outputs": [
    {
     "data": {
      "text/plain": [
       "10"
      ]
     },
     "execution_count": 34,
     "metadata": {},
     "output_type": "execute_result"
    }
   ],
   "source": [
    "x"
   ]
  },
  {
   "cell_type": "code",
   "execution_count": 35,
   "id": "6b95a539-c715-4180-bcc3-355952cc0d32",
   "metadata": {},
   "outputs": [
    {
     "data": {
      "text/plain": [
       "True"
      ]
     },
     "execution_count": 35,
     "metadata": {},
     "output_type": "execute_result"
    }
   ],
   "source": [
    "y"
   ]
  },
  {
   "cell_type": "code",
   "execution_count": 36,
   "id": "ea078b59-6902-4812-9d39-5281f4f94491",
   "metadata": {},
   "outputs": [
    {
     "data": {
      "text/plain": [
       "'ABC'"
      ]
     },
     "execution_count": 36,
     "metadata": {},
     "output_type": "execute_result"
    }
   ],
   "source": [
    "z"
   ]
  },
  {
   "cell_type": "markdown",
   "id": "7b0822fd-4695-4377-b1de-ae8352d4dc2e",
   "metadata": {},
   "source": [
    "# List methods"
   ]
  },
  {
   "cell_type": "code",
   "execution_count": 63,
   "id": "c7cf7d7f-150f-4e10-bf38-1f2048281904",
   "metadata": {},
   "outputs": [],
   "source": [
    "cities = ['London', 'Tallinn', 'Paris', 'Rome', 'Riga']\n",
    "nums = [2,8,-4,10,15,0,12]"
   ]
  },
  {
   "cell_type": "markdown",
   "id": "eac7eae8-8e75-494f-af6a-230b985f9a8a",
   "metadata": {},
   "source": [
    "**Adding methods**"
   ]
  },
  {
   "cell_type": "code",
   "execution_count": 38,
   "id": "8b5900b1-b649-4c1f-9644-01f287943058",
   "metadata": {},
   "outputs": [],
   "source": [
    "cities.append('Moscow')"
   ]
  },
  {
   "cell_type": "code",
   "execution_count": 39,
   "id": "b7e8a9c4-145b-458f-b9e9-c08bd5a311f9",
   "metadata": {},
   "outputs": [
    {
     "data": {
      "text/plain": [
       "['London', 'Tallinn', 'Paris', 'Rome', 'Riga', 'Moscow']"
      ]
     },
     "execution_count": 39,
     "metadata": {},
     "output_type": "execute_result"
    }
   ],
   "source": [
    "cities"
   ]
  },
  {
   "cell_type": "code",
   "execution_count": 40,
   "id": "ac014318-59c5-4d4a-9d28-acdbaf3d3da9",
   "metadata": {},
   "outputs": [
    {
     "data": {
      "text/plain": [
       "['London', 'Tallinn', 'Madrid', 'Paris', 'Rome', 'Riga', 'Moscow']"
      ]
     },
     "execution_count": 40,
     "metadata": {},
     "output_type": "execute_result"
    }
   ],
   "source": [
    "cities.insert(2, 'Madrid')\n",
    "cities"
   ]
  },
  {
   "cell_type": "code",
   "execution_count": 42,
   "id": "4c9f5676-a5ab-420f-8900-3550227f5594",
   "metadata": {},
   "outputs": [
    {
     "data": {
      "text/plain": [
       "[2, 8, -4, 10, 15, 0, 12, 12, 13, 14]"
      ]
     },
     "execution_count": 42,
     "metadata": {},
     "output_type": "execute_result"
    }
   ],
   "source": [
    "nums.extend([12,13,14])\n",
    "nums"
   ]
  },
  {
   "cell_type": "markdown",
   "id": "991f24ff-807a-4270-85df-687b8ff51d69",
   "metadata": {},
   "source": [
    "**List operations**"
   ]
  },
  {
   "cell_type": "code",
   "execution_count": 43,
   "id": "03152eca-e513-40eb-932b-9d14d8ce39c8",
   "metadata": {},
   "outputs": [
    {
     "data": {
      "text/plain": [
       "[1, 2, 3, 4, 5, 6]"
      ]
     },
     "execution_count": 43,
     "metadata": {},
     "output_type": "execute_result"
    }
   ],
   "source": [
    "[1,2,3] + [4,5,6]"
   ]
  },
  {
   "cell_type": "code",
   "execution_count": 45,
   "id": "a699dcf9-8d06-49eb-8df6-fab48b7a0b3a",
   "metadata": {},
   "outputs": [
    {
     "data": {
      "text/plain": [
       "[1, 2, 3, 1, 2, 3, 1, 2, 3, 1, 2, 3]"
      ]
     },
     "execution_count": 45,
     "metadata": {},
     "output_type": "execute_result"
    }
   ],
   "source": [
    "[1,2,3] * 4"
   ]
  },
  {
   "cell_type": "markdown",
   "id": "d1c5567b-dda9-4c4e-ac12-7cdbe71b9024",
   "metadata": {},
   "source": [
    "**Removing elements**"
   ]
  },
  {
   "cell_type": "code",
   "execution_count": 46,
   "id": "93992b04-7aeb-4c04-be7b-566aa95deba7",
   "metadata": {},
   "outputs": [
    {
     "data": {
      "text/plain": [
       "['London', 'Tallinn', 'Madrid', 'Rome', 'Riga', 'Moscow']"
      ]
     },
     "execution_count": 46,
     "metadata": {},
     "output_type": "execute_result"
    }
   ],
   "source": [
    "cities.remove('Paris')\n",
    "cities"
   ]
  },
  {
   "cell_type": "code",
   "execution_count": 47,
   "id": "6e043786-63bd-470b-8a2d-c827bd6b2a9d",
   "metadata": {},
   "outputs": [
    {
     "data": {
      "text/plain": [
       "['London', 'Tallinn', 'Madrid', 'Rome', 'Riga']"
      ]
     },
     "execution_count": 47,
     "metadata": {},
     "output_type": "execute_result"
    }
   ],
   "source": [
    "cities.pop()\n",
    "cities"
   ]
  },
  {
   "cell_type": "code",
   "execution_count": 48,
   "id": "fc91c2ab-0439-454e-bd73-b9a14c4b9843",
   "metadata": {},
   "outputs": [
    {
     "data": {
      "text/plain": [
       "['London', 'Tallinn', 'Rome', 'Riga']"
      ]
     },
     "execution_count": 48,
     "metadata": {},
     "output_type": "execute_result"
    }
   ],
   "source": [
    "cities.pop(2)\n",
    "cities"
   ]
  },
  {
   "cell_type": "code",
   "execution_count": 64,
   "id": "7d6c7b69-3698-4000-bdc7-058d8b3f15bb",
   "metadata": {},
   "outputs": [
    {
     "name": "stdout",
     "output_type": "stream",
     "text": [
      "['London', 'Tallinn', 'Paris', 'Riga']\n",
      "Rome\n"
     ]
    }
   ],
   "source": [
    "poped_item = cities.pop(3)\n",
    "print(cities)\n",
    "print(poped_item)"
   ]
  },
  {
   "cell_type": "markdown",
   "id": "15b57431-50b7-443f-a40d-1927c687e796",
   "metadata": {},
   "source": [
    "**Sorting methods**"
   ]
  },
  {
   "cell_type": "code",
   "execution_count": 51,
   "id": "ca336ebf-70c3-4226-a7d3-4ec81414bd22",
   "metadata": {},
   "outputs": [],
   "source": [
    "cities.reverse()"
   ]
  },
  {
   "cell_type": "code",
   "execution_count": 52,
   "id": "64d3b762-0416-46c1-890d-e005791949d4",
   "metadata": {},
   "outputs": [
    {
     "data": {
      "text/plain": [
       "['Rome', 'Tallinn', 'London']"
      ]
     },
     "execution_count": 52,
     "metadata": {},
     "output_type": "execute_result"
    }
   ],
   "source": [
    "cities"
   ]
  },
  {
   "cell_type": "code",
   "execution_count": 53,
   "id": "4b1655be-bddb-4dcf-a397-e03a8564093f",
   "metadata": {},
   "outputs": [
    {
     "data": {
      "text/plain": [
       "['London', 'Tallinn', 'Rome']"
      ]
     },
     "execution_count": 53,
     "metadata": {},
     "output_type": "execute_result"
    }
   ],
   "source": [
    "cities[::-1]"
   ]
  },
  {
   "cell_type": "code",
   "execution_count": 54,
   "id": "fc1f19c7-85c4-4db2-9f74-e863a927b126",
   "metadata": {},
   "outputs": [],
   "source": [
    "nums.sort()"
   ]
  },
  {
   "cell_type": "code",
   "execution_count": 55,
   "id": "ec232861-6fb3-4e20-b313-6a11fc5c8170",
   "metadata": {},
   "outputs": [
    {
     "data": {
      "text/plain": [
       "[-4, 0, 2, 8, 10, 12, 12, 13, 14, 15]"
      ]
     },
     "execution_count": 55,
     "metadata": {},
     "output_type": "execute_result"
    }
   ],
   "source": [
    "nums"
   ]
  },
  {
   "cell_type": "code",
   "execution_count": 56,
   "id": "d6c9a170-12de-49d1-9679-869b8ab01ca1",
   "metadata": {},
   "outputs": [],
   "source": [
    "nums.sort(reverse=True)"
   ]
  },
  {
   "cell_type": "code",
   "execution_count": 57,
   "id": "be338751-bb11-4a22-8150-28c735e811ef",
   "metadata": {},
   "outputs": [
    {
     "data": {
      "text/plain": [
       "[15, 14, 13, 12, 12, 10, 8, 2, 0, -4]"
      ]
     },
     "execution_count": 57,
     "metadata": {},
     "output_type": "execute_result"
    }
   ],
   "source": [
    "nums"
   ]
  },
  {
   "cell_type": "code",
   "execution_count": 58,
   "id": "f36933d4-97c9-4c39-9447-553b1c5f341c",
   "metadata": {},
   "outputs": [
    {
     "data": {
      "text/plain": [
       "[-4, 0, 2, 8, 10, 12, 12, 13, 14, 15]"
      ]
     },
     "execution_count": 58,
     "metadata": {},
     "output_type": "execute_result"
    }
   ],
   "source": [
    "sorted(nums)"
   ]
  },
  {
   "cell_type": "code",
   "execution_count": 59,
   "id": "eecc5850-79cd-4261-8177-9dfbcd13d155",
   "metadata": {},
   "outputs": [
    {
     "data": {
      "text/plain": [
       "[15, 14, 13, 12, 12, 10, 8, 2, 0, -4]"
      ]
     },
     "execution_count": 59,
     "metadata": {},
     "output_type": "execute_result"
    }
   ],
   "source": [
    "sorted(nums, reverse=True)"
   ]
  },
  {
   "cell_type": "code",
   "execution_count": 60,
   "id": "0b6b1e00-7631-419b-9513-21d4fc599c7e",
   "metadata": {},
   "outputs": [],
   "source": [
    "nums.extend('number')"
   ]
  },
  {
   "cell_type": "code",
   "execution_count": 61,
   "id": "b1f6ab53-f907-40d8-9869-00ac6aa654e2",
   "metadata": {},
   "outputs": [
    {
     "data": {
      "text/plain": [
       "[15, 14, 13, 12, 12, 10, 8, 2, 0, -4, 'n', 'u', 'm', 'b', 'e', 'r']"
      ]
     },
     "execution_count": 61,
     "metadata": {},
     "output_type": "execute_result"
    }
   ],
   "source": [
    "nums"
   ]
  },
  {
   "cell_type": "code",
   "execution_count": 62,
   "id": "212fc65c-006f-4ac1-9129-184d659a1cb7",
   "metadata": {},
   "outputs": [
    {
     "data": {
      "text/plain": [
       "[15, 14, 13, 12, 12, 10, 8, 2, 0, -4, 'n', 'u', 'm', 'b', 'e', 'r', 'number']"
      ]
     },
     "execution_count": 62,
     "metadata": {},
     "output_type": "execute_result"
    }
   ],
   "source": [
    "nums.append('number')\n",
    "nums"
   ]
  },
  {
   "cell_type": "markdown",
   "id": "fd13882d-0510-4cda-9127-1e6201d95b0b",
   "metadata": {},
   "source": [
    "**Find methods**"
   ]
  },
  {
   "cell_type": "code",
   "execution_count": 65,
   "id": "17caccef-2358-4ca3-b272-65e2e1553a8c",
   "metadata": {},
   "outputs": [
    {
     "data": {
      "text/plain": [
       "1"
      ]
     },
     "execution_count": 65,
     "metadata": {},
     "output_type": "execute_result"
    }
   ],
   "source": [
    "cities.index('Tallinn')"
   ]
  },
  {
   "cell_type": "code",
   "execution_count": 66,
   "id": "234d2e06-dfd7-405f-b0e8-a480218e6b3c",
   "metadata": {},
   "outputs": [
    {
     "ename": "ValueError",
     "evalue": "'Brussel' is not in list",
     "output_type": "error",
     "traceback": [
      "\u001b[1;31m---------------------------------------------------------------------------\u001b[0m",
      "\u001b[1;31mValueError\u001b[0m                                Traceback (most recent call last)",
      "Cell \u001b[1;32mIn[66], line 1\u001b[0m\n\u001b[1;32m----> 1\u001b[0m \u001b[43mcities\u001b[49m\u001b[38;5;241;43m.\u001b[39;49m\u001b[43mindex\u001b[49m\u001b[43m(\u001b[49m\u001b[38;5;124;43m'\u001b[39;49m\u001b[38;5;124;43mBrussel\u001b[39;49m\u001b[38;5;124;43m'\u001b[39;49m\u001b[43m)\u001b[49m\n",
      "\u001b[1;31mValueError\u001b[0m: 'Brussel' is not in list"
     ]
    }
   ],
   "source": [
    "cities.index('Brussel')"
   ]
  },
  {
   "cell_type": "code",
   "execution_count": 67,
   "id": "71140d5b-d895-42be-b5fa-07ab2490ab5b",
   "metadata": {},
   "outputs": [
    {
     "ename": "ValueError",
     "evalue": "'Tallinn' is not in list",
     "output_type": "error",
     "traceback": [
      "\u001b[1;31m---------------------------------------------------------------------------\u001b[0m",
      "\u001b[1;31mValueError\u001b[0m                                Traceback (most recent call last)",
      "Cell \u001b[1;32mIn[67], line 1\u001b[0m\n\u001b[1;32m----> 1\u001b[0m \u001b[43mcities\u001b[49m\u001b[38;5;241;43m.\u001b[39;49m\u001b[43mindex\u001b[49m\u001b[43m(\u001b[49m\u001b[38;5;124;43m'\u001b[39;49m\u001b[38;5;124;43mTallinn\u001b[39;49m\u001b[38;5;124;43m'\u001b[39;49m\u001b[43m,\u001b[49m\u001b[38;5;241;43m2\u001b[39;49m\u001b[43m)\u001b[49m\n",
      "\u001b[1;31mValueError\u001b[0m: 'Tallinn' is not in list"
     ]
    }
   ],
   "source": [
    "cities.index('Tallinn',2)"
   ]
  },
  {
   "cell_type": "code",
   "execution_count": 68,
   "id": "361d3998-5caa-42cf-a405-dae2bff04c85",
   "metadata": {},
   "outputs": [
    {
     "data": {
      "text/plain": [
       "1"
      ]
     },
     "execution_count": 68,
     "metadata": {},
     "output_type": "execute_result"
    }
   ],
   "source": [
    "cities.count('Tallinn')"
   ]
  },
  {
   "cell_type": "markdown",
   "id": "3dfb6a44-80ec-49ef-ac05-f64912d15262",
   "metadata": {},
   "source": [
    "**List-string methods**"
   ]
  },
  {
   "cell_type": "code",
   "execution_count": 69,
   "id": "4eb16ec0-c278-48c8-b747-b6d3a3d3caca",
   "metadata": {},
   "outputs": [],
   "source": [
    "text = 'These     words will be a list soon!'"
   ]
  },
  {
   "cell_type": "code",
   "execution_count": 70,
   "id": "175cb814-a34a-40c4-b93e-fe38c7745074",
   "metadata": {},
   "outputs": [
    {
     "data": {
      "text/plain": [
       "'These     words will be a list soon!'"
      ]
     },
     "execution_count": 70,
     "metadata": {},
     "output_type": "execute_result"
    }
   ],
   "source": [
    "text"
   ]
  },
  {
   "cell_type": "code",
   "execution_count": 72,
   "id": "469fd009-c102-4b7c-a502-c564b415f364",
   "metadata": {},
   "outputs": [
    {
     "data": {
      "text/plain": [
       "['These', 'words', 'will', 'be', 'a', 'list', 'soon!']"
      ]
     },
     "execution_count": 72,
     "metadata": {},
     "output_type": "execute_result"
    }
   ],
   "source": [
    "lst = text.split()\n",
    "lst"
   ]
  },
  {
   "cell_type": "code",
   "execution_count": 75,
   "id": "44e9af3e-1aad-468b-804f-4216245806fe",
   "metadata": {},
   "outputs": [],
   "source": [
    "new_text = '; '.join(lst)"
   ]
  },
  {
   "cell_type": "code",
   "execution_count": 76,
   "id": "12c02c86-e945-4a55-bbd9-5a6f118fe870",
   "metadata": {},
   "outputs": [
    {
     "data": {
      "text/plain": [
       "'These; words; will; be; a; list; soon!'"
      ]
     },
     "execution_count": 76,
     "metadata": {},
     "output_type": "execute_result"
    }
   ],
   "source": [
    "new_text"
   ]
  },
  {
   "cell_type": "code",
   "execution_count": 80,
   "id": "c07054d8-01b9-41dd-a4d6-f862ae10598b",
   "metadata": {},
   "outputs": [
    {
     "data": {
      "text/plain": [
       "['These', 'words', 'will', 'be', 'a', 'list', 'soon!']"
      ]
     },
     "execution_count": 80,
     "metadata": {},
     "output_type": "execute_result"
    }
   ],
   "source": [
    "new_text.split('; ')"
   ]
  },
  {
   "cell_type": "code",
   "execution_count": 79,
   "id": "b60861af-3541-4255-b2bf-d30bf6df644c",
   "metadata": {},
   "outputs": [
    {
     "data": {
      "text/plain": [
       "['__abs__',\n",
       " '__add__',\n",
       " '__and__',\n",
       " '__bool__',\n",
       " '__ceil__',\n",
       " '__class__',\n",
       " '__delattr__',\n",
       " '__dir__',\n",
       " '__divmod__',\n",
       " '__doc__',\n",
       " '__eq__',\n",
       " '__float__',\n",
       " '__floor__',\n",
       " '__floordiv__',\n",
       " '__format__',\n",
       " '__ge__',\n",
       " '__getattribute__',\n",
       " '__getnewargs__',\n",
       " '__getstate__',\n",
       " '__gt__',\n",
       " '__hash__',\n",
       " '__index__',\n",
       " '__init__',\n",
       " '__init_subclass__',\n",
       " '__int__',\n",
       " '__invert__',\n",
       " '__le__',\n",
       " '__lshift__',\n",
       " '__lt__',\n",
       " '__mod__',\n",
       " '__mul__',\n",
       " '__ne__',\n",
       " '__neg__',\n",
       " '__new__',\n",
       " '__or__',\n",
       " '__pos__',\n",
       " '__pow__',\n",
       " '__radd__',\n",
       " '__rand__',\n",
       " '__rdivmod__',\n",
       " '__reduce__',\n",
       " '__reduce_ex__',\n",
       " '__repr__',\n",
       " '__rfloordiv__',\n",
       " '__rlshift__',\n",
       " '__rmod__',\n",
       " '__rmul__',\n",
       " '__ror__',\n",
       " '__round__',\n",
       " '__rpow__',\n",
       " '__rrshift__',\n",
       " '__rshift__',\n",
       " '__rsub__',\n",
       " '__rtruediv__',\n",
       " '__rxor__',\n",
       " '__setattr__',\n",
       " '__sizeof__',\n",
       " '__str__',\n",
       " '__sub__',\n",
       " '__subclasshook__',\n",
       " '__truediv__',\n",
       " '__trunc__',\n",
       " '__xor__',\n",
       " 'as_integer_ratio',\n",
       " 'bit_count',\n",
       " 'bit_length',\n",
       " 'conjugate',\n",
       " 'denominator',\n",
       " 'from_bytes',\n",
       " 'imag',\n",
       " 'numerator',\n",
       " 'real',\n",
       " 'to_bytes']"
      ]
     },
     "execution_count": 79,
     "metadata": {},
     "output_type": "execute_result"
    }
   ],
   "source": [
    "dir(True)"
   ]
  },
  {
   "cell_type": "markdown",
   "id": "787bb864-5288-40c5-ad62-24b5c3cefc3d",
   "metadata": {},
   "source": [
    "**Copy and clear**"
   ]
  },
  {
   "cell_type": "code",
   "execution_count": 81,
   "id": "3684d228-1330-412f-be65-5ecf4484fd5e",
   "metadata": {},
   "outputs": [
    {
     "data": {
      "text/plain": [
       "['These', 'words', 'will', 'be', 'a', 'list', 'soon!']"
      ]
     },
     "execution_count": 81,
     "metadata": {},
     "output_type": "execute_result"
    }
   ],
   "source": [
    "lst"
   ]
  },
  {
   "cell_type": "code",
   "execution_count": 82,
   "id": "38781080-2197-44b8-967a-32c773f5fa8a",
   "metadata": {},
   "outputs": [],
   "source": [
    "lst.clear()"
   ]
  },
  {
   "cell_type": "code",
   "execution_count": 83,
   "id": "96de75e8-ab0d-4288-8f17-391393c7e983",
   "metadata": {},
   "outputs": [
    {
     "data": {
      "text/plain": [
       "[]"
      ]
     },
     "execution_count": 83,
     "metadata": {},
     "output_type": "execute_result"
    }
   ],
   "source": [
    "lst"
   ]
  },
  {
   "cell_type": "code",
   "execution_count": 84,
   "id": "2641801a-b13e-43ef-b5ba-c38fb776a9ed",
   "metadata": {},
   "outputs": [],
   "source": [
    "del(lst)"
   ]
  },
  {
   "cell_type": "code",
   "execution_count": 85,
   "id": "24ae46c0-4e63-4ca5-82f8-cceb5ca33168",
   "metadata": {},
   "outputs": [
    {
     "ename": "NameError",
     "evalue": "name 'lst' is not defined",
     "output_type": "error",
     "traceback": [
      "\u001b[1;31m---------------------------------------------------------------------------\u001b[0m",
      "\u001b[1;31mNameError\u001b[0m                                 Traceback (most recent call last)",
      "Cell \u001b[1;32mIn[85], line 1\u001b[0m\n\u001b[1;32m----> 1\u001b[0m \u001b[43mlst\u001b[49m\n",
      "\u001b[1;31mNameError\u001b[0m: name 'lst' is not defined"
     ]
    }
   ],
   "source": [
    "lst"
   ]
  },
  {
   "cell_type": "code",
   "execution_count": 86,
   "id": "1a805f7b-2b99-464c-a460-9c4ce901f7dd",
   "metadata": {},
   "outputs": [],
   "source": [
    "lst1 = [1, 2, 3]"
   ]
  },
  {
   "cell_type": "code",
   "execution_count": 87,
   "id": "a8e518b9-52d7-41b0-87eb-77cec9ec822e",
   "metadata": {},
   "outputs": [
    {
     "data": {
      "text/plain": [
       "2172563284992"
      ]
     },
     "execution_count": 87,
     "metadata": {},
     "output_type": "execute_result"
    }
   ],
   "source": [
    "id(lst1)"
   ]
  },
  {
   "cell_type": "code",
   "execution_count": 88,
   "id": "3466f376-e092-48de-a372-6adc3841d13e",
   "metadata": {},
   "outputs": [
    {
     "data": {
      "text/plain": [
       "140715828044584"
      ]
     },
     "execution_count": 88,
     "metadata": {},
     "output_type": "execute_result"
    }
   ],
   "source": [
    "id(1)"
   ]
  },
  {
   "cell_type": "code",
   "execution_count": 89,
   "id": "03b3a8b1-3268-41fe-9478-4480dbabf1bb",
   "metadata": {},
   "outputs": [],
   "source": [
    "lst2 = lst1"
   ]
  },
  {
   "cell_type": "code",
   "execution_count": 90,
   "id": "2837d9bb-5551-48f1-8795-4c432ead3222",
   "metadata": {},
   "outputs": [
    {
     "data": {
      "text/plain": [
       "[1, 2, 3]"
      ]
     },
     "execution_count": 90,
     "metadata": {},
     "output_type": "execute_result"
    }
   ],
   "source": [
    "lst2"
   ]
  },
  {
   "cell_type": "code",
   "execution_count": 91,
   "id": "adb405f4-a8f1-4c9b-b474-0329ccd9ea0d",
   "metadata": {},
   "outputs": [],
   "source": [
    "lst1[0] = 10\n",
    "lst2[-1] = 11"
   ]
  },
  {
   "cell_type": "code",
   "execution_count": 92,
   "id": "6c0e0cd7-d0a2-4a7d-b088-9ff7fe170d25",
   "metadata": {},
   "outputs": [
    {
     "data": {
      "text/plain": [
       "[10, 2, 11]"
      ]
     },
     "execution_count": 92,
     "metadata": {},
     "output_type": "execute_result"
    }
   ],
   "source": [
    "lst1"
   ]
  },
  {
   "cell_type": "code",
   "execution_count": 93,
   "id": "93af9bcc-161e-46e5-921b-e9c5c4daba35",
   "metadata": {},
   "outputs": [
    {
     "data": {
      "text/plain": [
       "[10, 2, 11]"
      ]
     },
     "execution_count": 93,
     "metadata": {},
     "output_type": "execute_result"
    }
   ],
   "source": [
    "lst2"
   ]
  },
  {
   "cell_type": "code",
   "execution_count": 94,
   "id": "daaa46b4-7b1b-470d-bf9d-56e391495fbf",
   "metadata": {},
   "outputs": [
    {
     "name": "stdout",
     "output_type": "stream",
     "text": [
      "2172563284992\n",
      "2172563284992\n"
     ]
    }
   ],
   "source": [
    "print(id(lst1))\n",
    "print(id(lst2))"
   ]
  },
  {
   "cell_type": "code",
   "execution_count": 95,
   "id": "50692988-f34a-43af-b156-8366072a9aaa",
   "metadata": {},
   "outputs": [],
   "source": [
    "lst1 = [1, 2, 3]\n",
    "lst2 = lst1.copy()"
   ]
  },
  {
   "cell_type": "code",
   "execution_count": 96,
   "id": "5d5d9d3d-e233-4a2f-bfce-6251d51c43fd",
   "metadata": {},
   "outputs": [
    {
     "name": "stdout",
     "output_type": "stream",
     "text": [
      "[1, 2, 3]\n",
      "[1, 2, 3]\n"
     ]
    }
   ],
   "source": [
    "print(lst1)\n",
    "print(lst2)"
   ]
  },
  {
   "cell_type": "code",
   "execution_count": 97,
   "id": "b73e3ba7-326b-438b-a0e5-ca441c4f3055",
   "metadata": {},
   "outputs": [
    {
     "name": "stdout",
     "output_type": "stream",
     "text": [
      "2172568781568\n",
      "2172568623552\n"
     ]
    }
   ],
   "source": [
    "print(id(lst1))\n",
    "print(id(lst2))"
   ]
  },
  {
   "cell_type": "code",
   "execution_count": 98,
   "id": "fa8cd96b-360a-4c90-83b2-3f4d84fd3019",
   "metadata": {},
   "outputs": [],
   "source": [
    "lst1[1] = 111"
   ]
  },
  {
   "cell_type": "code",
   "execution_count": 99,
   "id": "9ec44be7-d5aa-4495-8436-7c1076b9a1a0",
   "metadata": {},
   "outputs": [
    {
     "data": {
      "text/plain": [
       "[1, 111, 3]"
      ]
     },
     "execution_count": 99,
     "metadata": {},
     "output_type": "execute_result"
    }
   ],
   "source": [
    "lst1"
   ]
  },
  {
   "cell_type": "code",
   "execution_count": 100,
   "id": "2773f77d-5037-44b6-aaf8-30939bc55477",
   "metadata": {},
   "outputs": [
    {
     "data": {
      "text/plain": [
       "[1, 2, 3]"
      ]
     },
     "execution_count": 100,
     "metadata": {},
     "output_type": "execute_result"
    }
   ],
   "source": [
    "lst2"
   ]
  },
  {
   "cell_type": "markdown",
   "id": "7fb72e03-27c1-474c-9132-ca18778f1bba",
   "metadata": {},
   "source": [
    "**Stat function**"
   ]
  },
  {
   "cell_type": "code",
   "execution_count": 101,
   "id": "ec674e43-14e2-44bc-9873-836fee1943e1",
   "metadata": {},
   "outputs": [],
   "source": [
    "lst = [-2, 17, 111, -20, 0, 31]"
   ]
  },
  {
   "cell_type": "code",
   "execution_count": 102,
   "id": "a25b1412-4dda-4e5a-bbf4-269528e9d609",
   "metadata": {},
   "outputs": [
    {
     "data": {
      "text/plain": [
       "-20"
      ]
     },
     "execution_count": 102,
     "metadata": {},
     "output_type": "execute_result"
    }
   ],
   "source": [
    "min(lst)"
   ]
  },
  {
   "cell_type": "code",
   "execution_count": 103,
   "id": "8eba0e07-9fac-4338-9ed9-7044c93ab518",
   "metadata": {},
   "outputs": [
    {
     "data": {
      "text/plain": [
       "111"
      ]
     },
     "execution_count": 103,
     "metadata": {},
     "output_type": "execute_result"
    }
   ],
   "source": [
    "max(lst)"
   ]
  },
  {
   "cell_type": "code",
   "execution_count": 104,
   "id": "a41a7b4b-7811-475b-8082-03fdd0b4b73e",
   "metadata": {},
   "outputs": [
    {
     "data": {
      "text/plain": [
       "137"
      ]
     },
     "execution_count": 104,
     "metadata": {},
     "output_type": "execute_result"
    }
   ],
   "source": [
    "sum(lst)"
   ]
  },
  {
   "cell_type": "markdown",
   "id": "e086f0cf-7837-4fa5-800a-f7b30e26c170",
   "metadata": {},
   "source": [
    "# Tuple"
   ]
  },
  {
   "cell_type": "code",
   "execution_count": 105,
   "id": "fb775bb2-2f74-43a1-a64a-e27997b78eb9",
   "metadata": {},
   "outputs": [],
   "source": [
    "empty_tpl = ()"
   ]
  },
  {
   "cell_type": "code",
   "execution_count": 106,
   "id": "3e7ba6ba-f1b0-436f-b519-d88b19815a49",
   "metadata": {},
   "outputs": [
    {
     "data": {
      "text/plain": [
       "()"
      ]
     },
     "execution_count": 106,
     "metadata": {},
     "output_type": "execute_result"
    }
   ],
   "source": [
    "empty_tpl"
   ]
  },
  {
   "cell_type": "code",
   "execution_count": 107,
   "id": "0cb99641-8d41-41a4-a426-1dcb7f0638a1",
   "metadata": {},
   "outputs": [
    {
     "data": {
      "text/plain": [
       "tuple"
      ]
     },
     "execution_count": 107,
     "metadata": {},
     "output_type": "execute_result"
    }
   ],
   "source": [
    "type(empty_tpl)"
   ]
  },
  {
   "cell_type": "code",
   "execution_count": 108,
   "id": "279e570b-d2d8-4ce6-9f44-567c5d0ab316",
   "metadata": {},
   "outputs": [],
   "source": [
    "t1 = (1, 2, 3)\n",
    "t2 = (4, 5, 6)"
   ]
  },
  {
   "cell_type": "code",
   "execution_count": 109,
   "id": "21f2bfb6-c496-4aaf-96b7-19777a5b1583",
   "metadata": {},
   "outputs": [
    {
     "data": {
      "text/plain": [
       "2"
      ]
     },
     "execution_count": 109,
     "metadata": {},
     "output_type": "execute_result"
    }
   ],
   "source": [
    "t1[1]"
   ]
  },
  {
   "cell_type": "code",
   "execution_count": 110,
   "id": "bb0eafd3-0f97-48d5-80cb-e5d6c12f59cf",
   "metadata": {},
   "outputs": [
    {
     "ename": "TypeError",
     "evalue": "'tuple' object does not support item assignment",
     "output_type": "error",
     "traceback": [
      "\u001b[1;31m---------------------------------------------------------------------------\u001b[0m",
      "\u001b[1;31mTypeError\u001b[0m                                 Traceback (most recent call last)",
      "Cell \u001b[1;32mIn[110], line 1\u001b[0m\n\u001b[1;32m----> 1\u001b[0m \u001b[43mt1\u001b[49m\u001b[43m[\u001b[49m\u001b[38;5;241;43m1\u001b[39;49m\u001b[43m]\u001b[49m \u001b[38;5;241m=\u001b[39m \u001b[38;5;241m100\u001b[39m\n",
      "\u001b[1;31mTypeError\u001b[0m: 'tuple' object does not support item assignment"
     ]
    }
   ],
   "source": [
    "t1[1] = 100"
   ]
  },
  {
   "cell_type": "code",
   "execution_count": 111,
   "id": "acb3c0e6-5d1d-4737-91f2-f18f5da0f88d",
   "metadata": {},
   "outputs": [
    {
     "data": {
      "text/plain": [
       "(1, 2, 3, 4, 5, 6)"
      ]
     },
     "execution_count": 111,
     "metadata": {},
     "output_type": "execute_result"
    }
   ],
   "source": [
    "t1 + t2"
   ]
  },
  {
   "cell_type": "code",
   "execution_count": 112,
   "id": "659663f4-0f9f-4341-b4f4-916b28c8749d",
   "metadata": {},
   "outputs": [
    {
     "data": {
      "text/plain": [
       "(1, 2, 3, 1, 2, 3, 1, 2, 3)"
      ]
     },
     "execution_count": 112,
     "metadata": {},
     "output_type": "execute_result"
    }
   ],
   "source": [
    "t1 * 3"
   ]
  },
  {
   "cell_type": "markdown",
   "id": "a2472286-e2c1-4b8b-a2b5-3e05fb3390ec",
   "metadata": {},
   "source": [
    "# Range"
   ]
  },
  {
   "cell_type": "code",
   "execution_count": 113,
   "id": "24e9c3b5-3ae7-4817-96be-9b67c87e1803",
   "metadata": {},
   "outputs": [
    {
     "data": {
      "text/plain": [
       "range(0, 10)"
      ]
     },
     "execution_count": 113,
     "metadata": {},
     "output_type": "execute_result"
    }
   ],
   "source": [
    "range(10)"
   ]
  },
  {
   "cell_type": "code",
   "execution_count": 114,
   "id": "b0b1696d-a4d5-482f-aa5a-b7f804240888",
   "metadata": {},
   "outputs": [
    {
     "name": "stdout",
     "output_type": "stream",
     "text": [
      "0 1 2 3 4 5 6 7 8 9\n"
     ]
    }
   ],
   "source": [
    "print(*range(10))"
   ]
  },
  {
   "cell_type": "code",
   "execution_count": 115,
   "id": "4642567e-c55b-4b8e-af7f-285ba008b380",
   "metadata": {},
   "outputs": [
    {
     "name": "stdout",
     "output_type": "stream",
     "text": [
      "-5 -4 -3 -2 -1 0 1 2 3 4 5 6 7 8 9 10 11 12 13 14\n"
     ]
    }
   ],
   "source": [
    "print(*range(-5, 15))"
   ]
  },
  {
   "cell_type": "code",
   "execution_count": 116,
   "id": "797a7daa-da6d-4dfe-ac87-9ee74472a73a",
   "metadata": {},
   "outputs": [
    {
     "data": {
      "text/plain": [
       "4"
      ]
     },
     "execution_count": 116,
     "metadata": {},
     "output_type": "execute_result"
    }
   ],
   "source": [
    "max(range(-5,5))"
   ]
  },
  {
   "cell_type": "code",
   "execution_count": 117,
   "id": "b9c9b353-928b-4f5b-91be-2e246a3d66ec",
   "metadata": {},
   "outputs": [
    {
     "data": {
      "text/plain": [
       "-5"
      ]
     },
     "execution_count": 117,
     "metadata": {},
     "output_type": "execute_result"
    }
   ],
   "source": [
    "sum(range(-5,5))"
   ]
  },
  {
   "cell_type": "code",
   "execution_count": 118,
   "id": "778b1ea6-8ac6-4f0c-bb61-b5b8c31b4536",
   "metadata": {},
   "outputs": [
    {
     "name": "stdout",
     "output_type": "stream",
     "text": [
      "-8 -6 -4 -2 0 2 4 6\n"
     ]
    }
   ],
   "source": [
    "print(*range(-8, 8, 2))"
   ]
  },
  {
   "cell_type": "code",
   "execution_count": 119,
   "id": "9d6e0bb7-e862-49f9-bc51-4cbeae7deeba",
   "metadata": {},
   "outputs": [
    {
     "name": "stdout",
     "output_type": "stream",
     "text": [
      "3 2 1 0 -1 -2 -3 -4 -5 -6\n"
     ]
    }
   ],
   "source": [
    "print(*range(3, -7, -1))"
   ]
  },
  {
   "cell_type": "code",
   "execution_count": 121,
   "id": "f6ea79bd-201c-4ef7-a566-04c5867c6a5f",
   "metadata": {},
   "outputs": [
    {
     "data": {
      "text/plain": [
       "[1, 2, 3, 4, 5, 6, 7, 8, 9, 10, 11, 12, 13, 14, 15, 16, 17, 18, 19, 20]"
      ]
     },
     "execution_count": 121,
     "metadata": {},
     "output_type": "execute_result"
    }
   ],
   "source": [
    "lst = [*range(1, 21)]\n",
    "lst"
   ]
  },
  {
   "cell_type": "markdown",
   "id": "f8e62592-e1dd-41f5-b73a-552fa28d9a9d",
   "metadata": {},
   "source": [
    "# For loop"
   ]
  },
  {
   "cell_type": "raw",
   "id": "b7709c8d-f0b2-4016-925b-946e1cbf4bc7",
   "metadata": {},
   "source": [
    "# Very important!!!!! for Data Analysis"
   ]
  },
  {
   "cell_type": "code",
   "execution_count": 122,
   "id": "481bd616-faa1-4ac5-aca4-d3f3db974b4d",
   "metadata": {},
   "outputs": [
    {
     "name": "stdout",
     "output_type": "stream",
     "text": [
      "0\n",
      "1\n",
      "4\n",
      "9\n",
      "16\n",
      "25\n",
      "36\n",
      "49\n",
      "64\n",
      "81\n"
     ]
    }
   ],
   "source": [
    "for x in range(10):\n",
    "    x **= 2\n",
    "    print(x)"
   ]
  },
  {
   "cell_type": "code",
   "execution_count": 123,
   "id": "08bf16f9-f2d3-4e44-be7b-ef433b5c7dd1",
   "metadata": {},
   "outputs": [
    {
     "name": "stdout",
     "output_type": "stream",
     "text": [
      "[b'\\xff\\xfeH\\x00', b'\\xff\\xfee\\x00', b'\\xff\\xfel\\x00', b'\\xff\\xfel\\x00', b'\\xff\\xfeo\\x00', b'\\xff\\xfe \\x00', b'\\xff\\xfew\\x00', b'\\xff\\xfeo\\x00', b'\\xff\\xfer\\x00', b'\\xff\\xfel\\x00', b'\\xff\\xfed\\x00']\n"
     ]
    }
   ],
   "source": [
    "string = 'Hello world'\n",
    "lst = []\n",
    "\n",
    "for x in string:\n",
    "    lst.append(x.encode('utf16'))\n",
    "    \n",
    "print(lst)"
   ]
  },
  {
   "cell_type": "code",
   "execution_count": 124,
   "id": "24c55817-8411-4b2f-9558-224f6624081c",
   "metadata": {},
   "outputs": [],
   "source": [
    "new_string = ''\n",
    "\n",
    "for el in lst:\n",
    "    new_string += el.decode('utf16').upper()"
   ]
  },
  {
   "cell_type": "code",
   "execution_count": 125,
   "id": "223b0fc3-0efb-4b3f-8bc4-7dacd8935aa3",
   "metadata": {},
   "outputs": [
    {
     "data": {
      "text/plain": [
       "'HELLO WORLD'"
      ]
     },
     "execution_count": 125,
     "metadata": {},
     "output_type": "execute_result"
    }
   ],
   "source": [
    "new_string"
   ]
  },
  {
   "cell_type": "code",
   "execution_count": 129,
   "id": "f47bf7c6-c3c6-4f80-af2b-1758da946012",
   "metadata": {},
   "outputs": [],
   "source": [
    "courses = ['Math', 'Art', 'History', 'Physics', 'English']\n",
    "names = ['Jack', 'John', 'Mary', 'Helen', 'Jane']\n",
    "grades = ['A+', 'A', 'A-', 'B' ]"
   ]
  },
  {
   "cell_type": "code",
   "execution_count": 130,
   "id": "5c052cd0-e18c-4f6b-97dd-63f2a5d0a9f9",
   "metadata": {},
   "outputs": [
    {
     "name": "stdout",
     "output_type": "stream",
     "text": [
      "Jack got A+ in Math yesterday\n",
      "Jack got A in Math yesterday\n",
      "Jack got A- in Math yesterday\n",
      "Jack got B in Math yesterday\n",
      "John got A+ in Math yesterday\n",
      "John got A in Math yesterday\n",
      "John got A- in Math yesterday\n",
      "John got B in Math yesterday\n",
      "Mary got A+ in Math yesterday\n",
      "Mary got A in Math yesterday\n",
      "Mary got A- in Math yesterday\n",
      "Mary got B in Math yesterday\n",
      "Helen got A+ in Math yesterday\n",
      "Helen got A in Math yesterday\n",
      "Helen got A- in Math yesterday\n",
      "Helen got B in Math yesterday\n",
      "Jane got A+ in Math yesterday\n",
      "Jane got A in Math yesterday\n",
      "Jane got A- in Math yesterday\n",
      "Jane got B in Math yesterday\n",
      "Jack got A+ in Art yesterday\n",
      "Jack got A in Art yesterday\n",
      "Jack got A- in Art yesterday\n",
      "Jack got B in Art yesterday\n",
      "John got A+ in Art yesterday\n",
      "John got A in Art yesterday\n",
      "John got A- in Art yesterday\n",
      "John got B in Art yesterday\n",
      "Mary got A+ in Art yesterday\n",
      "Mary got A in Art yesterday\n",
      "Mary got A- in Art yesterday\n",
      "Mary got B in Art yesterday\n",
      "Helen got A+ in Art yesterday\n",
      "Helen got A in Art yesterday\n",
      "Helen got A- in Art yesterday\n",
      "Helen got B in Art yesterday\n",
      "Jane got A+ in Art yesterday\n",
      "Jane got A in Art yesterday\n",
      "Jane got A- in Art yesterday\n",
      "Jane got B in Art yesterday\n",
      "Jack got A+ in History yesterday\n",
      "Jack got A in History yesterday\n",
      "Jack got A- in History yesterday\n",
      "Jack got B in History yesterday\n",
      "John got A+ in History yesterday\n",
      "John got A in History yesterday\n",
      "John got A- in History yesterday\n",
      "John got B in History yesterday\n",
      "Mary got A+ in History yesterday\n",
      "Mary got A in History yesterday\n",
      "Mary got A- in History yesterday\n",
      "Mary got B in History yesterday\n",
      "Helen got A+ in History yesterday\n",
      "Helen got A in History yesterday\n",
      "Helen got A- in History yesterday\n",
      "Helen got B in History yesterday\n",
      "Jane got A+ in History yesterday\n",
      "Jane got A in History yesterday\n",
      "Jane got A- in History yesterday\n",
      "Jane got B in History yesterday\n",
      "Jack got A+ in Physics yesterday\n",
      "Jack got A in Physics yesterday\n",
      "Jack got A- in Physics yesterday\n",
      "Jack got B in Physics yesterday\n",
      "John got A+ in Physics yesterday\n",
      "John got A in Physics yesterday\n",
      "John got A- in Physics yesterday\n",
      "John got B in Physics yesterday\n",
      "Mary got A+ in Physics yesterday\n",
      "Mary got A in Physics yesterday\n",
      "Mary got A- in Physics yesterday\n",
      "Mary got B in Physics yesterday\n",
      "Helen got A+ in Physics yesterday\n",
      "Helen got A in Physics yesterday\n",
      "Helen got A- in Physics yesterday\n",
      "Helen got B in Physics yesterday\n",
      "Jane got A+ in Physics yesterday\n",
      "Jane got A in Physics yesterday\n",
      "Jane got A- in Physics yesterday\n",
      "Jane got B in Physics yesterday\n",
      "Jack got A+ in English yesterday\n",
      "Jack got A in English yesterday\n",
      "Jack got A- in English yesterday\n",
      "Jack got B in English yesterday\n",
      "John got A+ in English yesterday\n",
      "John got A in English yesterday\n",
      "John got A- in English yesterday\n",
      "John got B in English yesterday\n",
      "Mary got A+ in English yesterday\n",
      "Mary got A in English yesterday\n",
      "Mary got A- in English yesterday\n",
      "Mary got B in English yesterday\n",
      "Helen got A+ in English yesterday\n",
      "Helen got A in English yesterday\n",
      "Helen got A- in English yesterday\n",
      "Helen got B in English yesterday\n",
      "Jane got A+ in English yesterday\n",
      "Jane got A in English yesterday\n",
      "Jane got A- in English yesterday\n",
      "Jane got B in English yesterday\n"
     ]
    }
   ],
   "source": [
    "for course in courses:\n",
    "    for name in names:\n",
    "        for grade in grades:\n",
    "            print(f'{name} got {grade} in {course} yesterday')"
   ]
  },
  {
   "cell_type": "code",
   "execution_count": 131,
   "id": "203a130d-2ab6-4b50-abe7-b6a8d6a415ad",
   "metadata": {},
   "outputs": [],
   "source": [
    "lst = ['A', 'B', 'C', 'D', 'E']"
   ]
  },
  {
   "cell_type": "code",
   "execution_count": 132,
   "id": "e17ea4dd-1eb8-48ea-aee5-9859a4b4f8ce",
   "metadata": {},
   "outputs": [
    {
     "data": {
      "text/plain": [
       "['A', 'B', 'C', 'D', 'E']"
      ]
     },
     "execution_count": 132,
     "metadata": {},
     "output_type": "execute_result"
    }
   ],
   "source": [
    "lst"
   ]
  },
  {
   "cell_type": "code",
   "execution_count": 133,
   "id": "7783a2c7-469e-44de-8aac-329d809c08b4",
   "metadata": {},
   "outputs": [
    {
     "name": "stdout",
     "output_type": "stream",
     "text": [
      "Element A has an index 0\n",
      "Element B has an index 1\n",
      "Element C has an index 2\n",
      "Element D has an index 3\n",
      "Element E has an index 4\n"
     ]
    }
   ],
   "source": [
    "for i in range(len(lst)):\n",
    "    print('Element', lst[i], 'has an index', i)"
   ]
  },
  {
   "cell_type": "code",
   "execution_count": 137,
   "id": "13f4d7ff-96b3-4466-bc6f-c9af1b6f60af",
   "metadata": {},
   "outputs": [
    {
     "name": "stdout",
     "output_type": "stream",
     "text": [
      "The numbers are:\n",
      "\n",
      "[-5, 12, 721, -20, 0, 19, 74, 5]\n",
      "\n",
      "The min value is: -20\n",
      "The max value is: 721\n",
      "The sum is: 806\n"
     ]
    }
   ],
   "source": [
    "num_str = '-5 12 721 -20 0 19 74 5'\n",
    "num_lst = []\n",
    "\n",
    "for num in num_str.split():\n",
    "    num = int(num)\n",
    "    num_lst.append(num)\n",
    "    \n",
    "print(f'''The numbers are:\n",
    "\n",
    "{num_lst}\n",
    "\n",
    "The min value is: {min(num_lst)}\n",
    "The max value is: {max(num_lst)}\n",
    "The sum is: {sum(num_lst)}''')"
   ]
  },
  {
   "cell_type": "code",
   "execution_count": null,
   "id": "ceef931e-ccf5-4240-9990-0c15c403eb5c",
   "metadata": {},
   "outputs": [],
   "source": []
  }
 ],
 "metadata": {
  "kernelspec": {
   "display_name": "Python 3 (ipykernel)",
   "language": "python",
   "name": "python3"
  },
  "language_info": {
   "codemirror_mode": {
    "name": "ipython",
    "version": 3
   },
   "file_extension": ".py",
   "mimetype": "text/x-python",
   "name": "python",
   "nbconvert_exporter": "python",
   "pygments_lexer": "ipython3",
   "version": "3.11.1"
  }
 },
 "nbformat": 4,
 "nbformat_minor": 5
}
