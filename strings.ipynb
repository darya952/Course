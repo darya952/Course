{
 "cells": [
  {
   "cell_type": "code",
   "execution_count": 10,
   "id": "7b591a8b-1790-4a05-bc3a-8c624c274a07",
   "metadata": {},
   "outputs": [],
   "source": [
    "string1 = 'Hello world'\n",
    "string2 = 'stArts with loWer lettEr'\n",
    "string3 = '$$$string with dollars$$$$$'"
   ]
  },
  {
   "cell_type": "markdown",
   "id": "cfd69944-94ac-4db6-b92e-029c141352fd",
   "metadata": {},
   "source": [
    "*Input"
   ]
  },
  {
   "cell_type": "code",
   "execution_count": 1,
   "id": "627320e9-fda3-4fcf-878c-7cc68b912f7f",
   "metadata": {},
   "outputs": [
    {
     "name": "stdin",
     "output_type": "stream",
     "text": [
      " 1242\n"
     ]
    },
    {
     "data": {
      "text/plain": [
       "'1242'"
      ]
     },
     "execution_count": 1,
     "metadata": {},
     "output_type": "execute_result"
    }
   ],
   "source": [
    "input()"
   ]
  },
  {
   "cell_type": "code",
   "execution_count": 2,
   "id": "16373d62-4e60-425f-be5b-3466ca8939d3",
   "metadata": {},
   "outputs": [
    {
     "name": "stdin",
     "output_type": "stream",
     "text": [
      "Please enter your name:  Daria\n"
     ]
    },
    {
     "data": {
      "text/plain": [
       "'Daria'"
      ]
     },
     "execution_count": 2,
     "metadata": {},
     "output_type": "execute_result"
    }
   ],
   "source": [
    "input('Please enter your name: ')"
   ]
  },
  {
   "cell_type": "code",
   "execution_count": 3,
   "id": "5bf4af4a-524f-4514-b546-42bb98a80787",
   "metadata": {},
   "outputs": [
    {
     "name": "stdin",
     "output_type": "stream",
     "text": [
      "Please enter your name:  Daria\n"
     ]
    }
   ],
   "source": [
    "name = input ('Please enter your name: ')"
   ]
  },
  {
   "cell_type": "code",
   "execution_count": 4,
   "id": "9f92341d-96ae-4af5-aca2-84848cb5d898",
   "metadata": {},
   "outputs": [
    {
     "data": {
      "text/plain": [
       "'Daria'"
      ]
     },
     "execution_count": 4,
     "metadata": {},
     "output_type": "execute_result"
    }
   ],
   "source": [
    "name"
   ]
  },
  {
   "cell_type": "code",
   "execution_count": 7,
   "id": "49437f26-3aa3-4fac-87c7-59128113bee9",
   "metadata": {},
   "outputs": [
    {
     "name": "stdin",
     "output_type": "stream",
     "text": [
      "Please enter your number:  123\n"
     ]
    }
   ],
   "source": [
    "number = int(input('Please enter your number: '))"
   ]
  },
  {
   "cell_type": "code",
   "execution_count": 8,
   "id": "e711053b-cacd-43d9-9b3a-59f18e40f071",
   "metadata": {},
   "outputs": [
    {
     "name": "stdout",
     "output_type": "stream",
     "text": [
      "Your number in power of 2 is: 15129\n"
     ]
    }
   ],
   "source": [
    "print('Your number in power of 2 is:', number**2)"
   ]
  },
  {
   "cell_type": "markdown",
   "id": "7f56c074-c876-408e-a585-365fdd87dda0",
   "metadata": {},
   "source": [
    "# String operations"
   ]
  },
  {
   "cell_type": "code",
   "execution_count": 11,
   "id": "59c97114-1725-4264-9526-bd5671c86bef",
   "metadata": {},
   "outputs": [
    {
     "data": {
      "text/plain": [
       "'Hello world stArts with loWer lettEr'"
      ]
     },
     "execution_count": 11,
     "metadata": {},
     "output_type": "execute_result"
    }
   ],
   "source": [
    "string1 + ' ' + string2"
   ]
  },
  {
   "cell_type": "code",
   "execution_count": 12,
   "id": "63373c5e-63fb-47e9-8265-df0146d28195",
   "metadata": {},
   "outputs": [
    {
     "data": {
      "text/plain": [
       "'Hello worldHello worldHello world'"
      ]
     },
     "execution_count": 12,
     "metadata": {},
     "output_type": "execute_result"
    }
   ],
   "source": [
    "string1 * 3"
   ]
  },
  {
   "cell_type": "code",
   "execution_count": 13,
   "id": "c89d332f-85f2-44c7-b479-15afd81c0792",
   "metadata": {},
   "outputs": [
    {
     "data": {
      "text/plain": [
       "'Hello world---stArts with loWer lettErHello world---stArts with loWer lettEr'"
      ]
     },
     "execution_count": 13,
     "metadata": {},
     "output_type": "execute_result"
    }
   ],
   "source": [
    "(string1 + '---' + string2)*2"
   ]
  },
  {
   "cell_type": "markdown",
   "id": "e4d843e5-d708-4a37-bf6f-e102e0308a9c",
   "metadata": {},
   "source": [
    "# Escape characters"
   ]
  },
  {
   "cell_type": "code",
   "execution_count": 15,
   "id": "b19e9d3f-a73d-4d3d-b7d0-77fbfd9f3473",
   "metadata": {},
   "outputs": [
    {
     "data": {
      "text/plain": [
       "\"I don't know\""
      ]
     },
     "execution_count": 15,
     "metadata": {},
     "output_type": "execute_result"
    }
   ],
   "source": [
    "'I don\\'t know'"
   ]
  },
  {
   "cell_type": "code",
   "execution_count": 18,
   "id": "0b920e73-1c95-4098-810d-aae7d6f8497f",
   "metadata": {},
   "outputs": [
    {
     "name": "stdout",
     "output_type": "stream",
     "text": [
      "C:\\jupyter\\course\n"
     ]
    }
   ],
   "source": [
    "print('C:\\\\jupyter\\\\course')"
   ]
  },
  {
   "cell_type": "code",
   "execution_count": 19,
   "id": "e2d02197-b76a-4dd5-b5f5-ff10bb55f859",
   "metadata": {},
   "outputs": [
    {
     "data": {
      "text/plain": [
       "'hello\\nworld'"
      ]
     },
     "execution_count": 19,
     "metadata": {},
     "output_type": "execute_result"
    }
   ],
   "source": [
    "'hello\\nworld'"
   ]
  },
  {
   "cell_type": "code",
   "execution_count": 20,
   "id": "e70a9959-8fde-4c7a-a40c-6e23f71ba452",
   "metadata": {},
   "outputs": [
    {
     "name": "stdout",
     "output_type": "stream",
     "text": [
      "hello\n",
      "world\n"
     ]
    }
   ],
   "source": [
    "print('hello\\nworld')"
   ]
  },
  {
   "cell_type": "code",
   "execution_count": 25,
   "id": "2561a4e8-aab1-47bb-b5ee-bdcc15415bb0",
   "metadata": {},
   "outputs": [
    {
     "name": "stdout",
     "output_type": "stream",
     "text": [
      "HELLO WORLD\n"
     ]
    }
   ],
   "source": [
    "print('HELLO WORLD', end='\\n')"
   ]
  },
  {
   "cell_type": "markdown",
   "id": "b5d4c357-3c62-438d-90b4-40209340ce7f",
   "metadata": {},
   "source": [
    "# Indexing and slicing"
   ]
  },
  {
   "cell_type": "code",
   "execution_count": 26,
   "id": "24348e72-1298-44b6-b7ec-35d012f2a961",
   "metadata": {},
   "outputs": [
    {
     "data": {
      "text/plain": [
       "11"
      ]
     },
     "execution_count": 26,
     "metadata": {},
     "output_type": "execute_result"
    }
   ],
   "source": [
    "len(string1)"
   ]
  },
  {
   "cell_type": "code",
   "execution_count": 27,
   "id": "f917ece9-1b28-4cdd-91df-c1c401f4e4ca",
   "metadata": {},
   "outputs": [
    {
     "data": {
      "text/plain": [
       "'Hello world'"
      ]
     },
     "execution_count": 27,
     "metadata": {},
     "output_type": "execute_result"
    }
   ],
   "source": [
    "string1"
   ]
  },
  {
   "cell_type": "code",
   "execution_count": 28,
   "id": "c5866890-08ed-4132-9a88-c3e03a7e5888",
   "metadata": {},
   "outputs": [
    {
     "data": {
      "text/plain": [
       "'H'"
      ]
     },
     "execution_count": 28,
     "metadata": {},
     "output_type": "execute_result"
    }
   ],
   "source": [
    "string1[0]"
   ]
  },
  {
   "cell_type": "code",
   "execution_count": 29,
   "id": "fa400bf4-cb63-4b89-b73a-6a754236d2b0",
   "metadata": {},
   "outputs": [
    {
     "data": {
      "text/plain": [
       "'d'"
      ]
     },
     "execution_count": 29,
     "metadata": {},
     "output_type": "execute_result"
    }
   ],
   "source": [
    "string1[10]"
   ]
  },
  {
   "cell_type": "code",
   "execution_count": 30,
   "id": "0cc245c0-e78b-453a-8e84-a4c6ac257584",
   "metadata": {},
   "outputs": [],
   "source": [
    "# Comment!"
   ]
  },
  {
   "cell_type": "code",
   "execution_count": 31,
   "id": "a744b142-dc7f-4d4d-9354-b0b347c839ea",
   "metadata": {},
   "outputs": [
    {
     "data": {
      "text/plain": [
       "'w'"
      ]
     },
     "execution_count": 31,
     "metadata": {},
     "output_type": "execute_result"
    }
   ],
   "source": [
    "string1[6]"
   ]
  },
  {
   "cell_type": "code",
   "execution_count": 32,
   "id": "5281a3c6-1b3c-47a1-84d6-b6197d6a3208",
   "metadata": {},
   "outputs": [
    {
     "data": {
      "text/plain": [
       "'d'"
      ]
     },
     "execution_count": 32,
     "metadata": {},
     "output_type": "execute_result"
    }
   ],
   "source": [
    "string1[-1]"
   ]
  },
  {
   "cell_type": "code",
   "execution_count": 33,
   "id": "8c5a7473-6ad9-49db-9144-57e708dfe8d9",
   "metadata": {},
   "outputs": [
    {
     "data": {
      "text/plain": [
       "'l'"
      ]
     },
     "execution_count": 33,
     "metadata": {},
     "output_type": "execute_result"
    }
   ],
   "source": [
    "string1[-2]"
   ]
  },
  {
   "cell_type": "code",
   "execution_count": 34,
   "id": "8390070f-9479-4ede-92a9-0dbdc1a1070f",
   "metadata": {},
   "outputs": [
    {
     "data": {
      "text/plain": [
       "'stArts with loWer lettEr'"
      ]
     },
     "execution_count": 34,
     "metadata": {},
     "output_type": "execute_result"
    }
   ],
   "source": [
    "string2"
   ]
  },
  {
   "cell_type": "code",
   "execution_count": 35,
   "id": "c3afa2b0-8118-4c1c-af60-f32b7f62faf1",
   "metadata": {},
   "outputs": [
    {
     "data": {
      "text/plain": [
       "'tArts'"
      ]
     },
     "execution_count": 35,
     "metadata": {},
     "output_type": "execute_result"
    }
   ],
   "source": [
    "string2[1:6]"
   ]
  },
  {
   "cell_type": "code",
   "execution_count": 36,
   "id": "e2247295-0eae-4589-a633-f617d7e3f396",
   "metadata": {},
   "outputs": [
    {
     "data": {
      "text/plain": [
       "'ts with loWer lett'"
      ]
     },
     "execution_count": 36,
     "metadata": {},
     "output_type": "execute_result"
    }
   ],
   "source": [
    "string2[4:-2]"
   ]
  },
  {
   "cell_type": "code",
   "execution_count": 37,
   "id": "62cc0bb0-c8e9-4a21-aff5-8c50493cea5b",
   "metadata": {},
   "outputs": [
    {
     "data": {
      "text/plain": [
       "''"
      ]
     },
     "execution_count": 37,
     "metadata": {},
     "output_type": "execute_result"
    }
   ],
   "source": [
    "string2[7:3]"
   ]
  },
  {
   "cell_type": "code",
   "execution_count": 38,
   "id": "d169650a-4027-4702-a761-0d5d1b44adc3",
   "metadata": {},
   "outputs": [
    {
     "data": {
      "text/plain": [
       "'trswt oe et'"
      ]
     },
     "execution_count": 38,
     "metadata": {},
     "output_type": "execute_result"
    }
   ],
   "source": [
    "string2[1:-1:2]"
   ]
  },
  {
   "cell_type": "code",
   "execution_count": 39,
   "id": "e96da8a1-03c3-410f-a0a4-9499891d2986",
   "metadata": {},
   "outputs": [
    {
     "data": {
      "text/plain": [
       "'sr tlelt'"
      ]
     },
     "execution_count": 39,
     "metadata": {},
     "output_type": "execute_result"
    }
   ],
   "source": [
    "string2[::3]"
   ]
  },
  {
   "cell_type": "code",
   "execution_count": 40,
   "id": "6676bec1-a92b-4ce9-8998-82818e3fed4f",
   "metadata": {},
   "outputs": [
    {
     "data": {
      "text/plain": [
       "'stArts '"
      ]
     },
     "execution_count": 40,
     "metadata": {},
     "output_type": "execute_result"
    }
   ],
   "source": [
    "string2[:7]"
   ]
  },
  {
   "cell_type": "code",
   "execution_count": 41,
   "id": "900b6be9-f714-4d69-8706-66c3a7105146",
   "metadata": {},
   "outputs": [
    {
     "data": {
      "text/plain": [
       "'s with loWer lettEr'"
      ]
     },
     "execution_count": 41,
     "metadata": {},
     "output_type": "execute_result"
    }
   ],
   "source": [
    "string2[5:]"
   ]
  },
  {
   "cell_type": "code",
   "execution_count": 42,
   "id": "3be3d4c8-49a9-428b-8c67-0d72bf42440b",
   "metadata": {},
   "outputs": [
    {
     "data": {
      "text/plain": [
       "'rswt oe etr'"
      ]
     },
     "execution_count": 42,
     "metadata": {},
     "output_type": "execute_result"
    }
   ],
   "source": [
    "string2[3::2]"
   ]
  },
  {
   "cell_type": "code",
   "execution_count": 43,
   "id": "aeda5d7e-8d80-4319-a772-2f53566597d3",
   "metadata": {},
   "outputs": [
    {
     "data": {
      "text/plain": [
       "'rEttel reWol htiw strAts'"
      ]
     },
     "execution_count": 43,
     "metadata": {},
     "output_type": "execute_result"
    }
   ],
   "source": [
    "string2[::-1]"
   ]
  },
  {
   "cell_type": "code",
   "execution_count": 44,
   "id": "b396e30d-d99a-4c3f-9c9b-b355fe64588b",
   "metadata": {},
   "outputs": [
    {
     "data": {
      "text/plain": [
       "'w st'"
      ]
     },
     "execution_count": 44,
     "metadata": {},
     "output_type": "execute_result"
    }
   ],
   "source": [
    "string2[7:3:-1]"
   ]
  },
  {
   "cell_type": "markdown",
   "id": "2151c243-6248-45d1-b3cd-279525b0ebb1",
   "metadata": {},
   "source": [
    "# String methods"
   ]
  },
  {
   "cell_type": "markdown",
   "id": "28cb86a6-2e06-434c-bcbc-ca5004f1d304",
   "metadata": {},
   "source": [
    "**Case methods"
   ]
  },
  {
   "cell_type": "code",
   "execution_count": 48,
   "id": "49b085bb-18f5-46d9-ab67-8fd740eed77e",
   "metadata": {},
   "outputs": [
    {
     "data": {
      "text/plain": [
       "'stArts with loWer lettEr'"
      ]
     },
     "execution_count": 48,
     "metadata": {},
     "output_type": "execute_result"
    }
   ],
   "source": [
    "string2"
   ]
  },
  {
   "cell_type": "code",
   "execution_count": 49,
   "id": "42bf66b8-11b0-41af-8091-6009d8d85c3c",
   "metadata": {},
   "outputs": [
    {
     "data": {
      "text/plain": [
       "'STARTS WITH LOWER LETTER'"
      ]
     },
     "execution_count": 49,
     "metadata": {},
     "output_type": "execute_result"
    }
   ],
   "source": [
    "string2.upper()"
   ]
  },
  {
   "cell_type": "code",
   "execution_count": 50,
   "id": "b83b7ecd-5e5c-45ae-997e-d37aa81569a4",
   "metadata": {},
   "outputs": [
    {
     "data": {
      "text/plain": [
       "'stArts with loWer lettEr'"
      ]
     },
     "execution_count": 50,
     "metadata": {},
     "output_type": "execute_result"
    }
   ],
   "source": [
    "string2"
   ]
  },
  {
   "cell_type": "code",
   "execution_count": 51,
   "id": "04d71c54-4e7d-4d1f-8db3-129b00f899e6",
   "metadata": {},
   "outputs": [
    {
     "data": {
      "text/plain": [
       "'RTS WIT'"
      ]
     },
     "execution_count": 51,
     "metadata": {},
     "output_type": "execute_result"
    }
   ],
   "source": [
    "string2[3:10].upper()"
   ]
  },
  {
   "cell_type": "code",
   "execution_count": 52,
   "id": "39e879ec-291e-459b-8217-d16e907f92e1",
   "metadata": {},
   "outputs": [
    {
     "ename": "TypeError",
     "evalue": "'str' object does not support item assignment",
     "output_type": "error",
     "traceback": [
      "\u001b[1;31m---------------------------------------------------------------------------\u001b[0m",
      "\u001b[1;31mTypeError\u001b[0m                                 Traceback (most recent call last)",
      "Cell \u001b[1;32mIn[52], line 1\u001b[0m\n\u001b[1;32m----> 1\u001b[0m \u001b[43mstring2\u001b[49m\u001b[43m[\u001b[49m\u001b[38;5;241;43m5\u001b[39;49m\u001b[43m]\u001b[49m \u001b[38;5;241m=\u001b[39m \u001b[38;5;124m'\u001b[39m\u001b[38;5;124mW\u001b[39m\u001b[38;5;124m'\u001b[39m\n",
      "\u001b[1;31mTypeError\u001b[0m: 'str' object does not support item assignment"
     ]
    }
   ],
   "source": [
    "string2[5] = 'W'"
   ]
  },
  {
   "cell_type": "code",
   "execution_count": 53,
   "id": "e46cba3f-8508-4a2e-8383-71aae9195715",
   "metadata": {},
   "outputs": [
    {
     "data": {
      "text/plain": [
       "'starts with lower letter'"
      ]
     },
     "execution_count": 53,
     "metadata": {},
     "output_type": "execute_result"
    }
   ],
   "source": [
    "string2.lower()"
   ]
  },
  {
   "cell_type": "code",
   "execution_count": 54,
   "id": "d94f7d94-4166-47a1-83cf-649444254c40",
   "metadata": {},
   "outputs": [
    {
     "data": {
      "text/plain": [
       "'starts with lower letter'"
      ]
     },
     "execution_count": 54,
     "metadata": {},
     "output_type": "execute_result"
    }
   ],
   "source": [
    "string2.casefold()"
   ]
  },
  {
   "cell_type": "code",
   "execution_count": 55,
   "id": "f8bf97ba-89e0-451e-83e5-cbfc78e451c3",
   "metadata": {},
   "outputs": [
    {
     "data": {
      "text/plain": [
       "'Starts with lower letter'"
      ]
     },
     "execution_count": 55,
     "metadata": {},
     "output_type": "execute_result"
    }
   ],
   "source": [
    "string2.capitalize()"
   ]
  },
  {
   "cell_type": "code",
   "execution_count": 56,
   "id": "db4ae941-1d69-47ac-8005-563220d578ec",
   "metadata": {},
   "outputs": [
    {
     "data": {
      "text/plain": [
       "'Hi. hello. world'"
      ]
     },
     "execution_count": 56,
     "metadata": {},
     "output_type": "execute_result"
    }
   ],
   "source": [
    "'hi. hello. world'.capitalize()"
   ]
  },
  {
   "cell_type": "code",
   "execution_count": 57,
   "id": "74a54af6-ce5a-46d6-8ff3-be43ff65366a",
   "metadata": {},
   "outputs": [
    {
     "data": {
      "text/plain": [
       "'Starts With Lower Letter'"
      ]
     },
     "execution_count": 57,
     "metadata": {},
     "output_type": "execute_result"
    }
   ],
   "source": [
    "string2.title()"
   ]
  },
  {
   "cell_type": "code",
   "execution_count": 58,
   "id": "2e7f121d-acb6-4e84-8652-a2f11510d06b",
   "metadata": {},
   "outputs": [
    {
     "data": {
      "text/plain": [
       "'STaRTS WITH LOwER LETTeR'"
      ]
     },
     "execution_count": 58,
     "metadata": {},
     "output_type": "execute_result"
    }
   ],
   "source": [
    "string2.swapcase()"
   ]
  },
  {
   "cell_type": "markdown",
   "id": "d81743b6-8f26-46bd-a08b-670d272c53c7",
   "metadata": {},
   "source": [
    "** Find and count"
   ]
  },
  {
   "cell_type": "code",
   "execution_count": 59,
   "id": "f4296e96-d261-4e89-8dea-9c9a9a389132",
   "metadata": {},
   "outputs": [
    {
     "data": {
      "text/plain": [
       "3"
      ]
     },
     "execution_count": 59,
     "metadata": {},
     "output_type": "execute_result"
    }
   ],
   "source": [
    "string1.count('l')"
   ]
  },
  {
   "cell_type": "code",
   "execution_count": 60,
   "id": "296ab880-2dab-45a1-9c9f-c6cd0d2c468a",
   "metadata": {},
   "outputs": [
    {
     "data": {
      "text/plain": [
       "1"
      ]
     },
     "execution_count": 60,
     "metadata": {},
     "output_type": "execute_result"
    }
   ],
   "source": [
    "string1.count('ll')"
   ]
  },
  {
   "cell_type": "code",
   "execution_count": 61,
   "id": "553993ee-ad2f-419b-a06c-dc691de41706",
   "metadata": {},
   "outputs": [
    {
     "data": {
      "text/plain": [
       "0"
      ]
     },
     "execution_count": 61,
     "metadata": {},
     "output_type": "execute_result"
    }
   ],
   "source": [
    "string1.count('lll')"
   ]
  },
  {
   "cell_type": "code",
   "execution_count": 62,
   "id": "ebf3a0f8-4e94-48ed-b71c-414bec65017f",
   "metadata": {},
   "outputs": [
    {
     "data": {
      "text/plain": [
       "\u001b[1;31mDocstring:\u001b[0m\n",
       "S.count(sub[, start[, end]]) -> int\n",
       "\n",
       "Return the number of non-overlapping occurrences of substring sub in\n",
       "string S[start:end].  Optional arguments start and end are\n",
       "interpreted as in slice notation.\n",
       "\u001b[1;31mType:\u001b[0m      builtin_function_or_method"
      ]
     },
     "metadata": {},
     "output_type": "display_data"
    }
   ],
   "source": [
    "string1.count?"
   ]
  },
  {
   "cell_type": "code",
   "execution_count": 63,
   "id": "2dd6deaa-e14b-4211-8c99-f247570598ad",
   "metadata": {},
   "outputs": [
    {
     "data": {
      "text/plain": [
       "2"
      ]
     },
     "execution_count": 63,
     "metadata": {},
     "output_type": "execute_result"
    }
   ],
   "source": [
    "string1.count('l', 0, 6)"
   ]
  },
  {
   "cell_type": "code",
   "execution_count": 64,
   "id": "0b3cac4d-c22a-48da-8ade-6771ca84d034",
   "metadata": {},
   "outputs": [
    {
     "data": {
      "text/plain": [
       "2"
      ]
     },
     "execution_count": 64,
     "metadata": {},
     "output_type": "execute_result"
    }
   ],
   "source": [
    "string1.find('l')"
   ]
  },
  {
   "cell_type": "code",
   "execution_count": 65,
   "id": "ea1b588c-5e58-4534-b081-6f195b683e81",
   "metadata": {},
   "outputs": [
    {
     "data": {
      "text/plain": [
       "3"
      ]
     },
     "execution_count": 65,
     "metadata": {},
     "output_type": "execute_result"
    }
   ],
   "source": [
    "string1.find('l', 3)"
   ]
  },
  {
   "cell_type": "code",
   "execution_count": 66,
   "id": "659ffa8b-b4ef-4918-a3af-26260cbe564d",
   "metadata": {},
   "outputs": [
    {
     "data": {
      "text/plain": [
       "9"
      ]
     },
     "execution_count": 66,
     "metadata": {},
     "output_type": "execute_result"
    }
   ],
   "source": [
    "string1.find('l', 4)"
   ]
  },
  {
   "cell_type": "code",
   "execution_count": 67,
   "id": "f2f6a15e-431b-4e74-9e86-8562aebe999e",
   "metadata": {},
   "outputs": [
    {
     "data": {
      "text/plain": [
       "-1"
      ]
     },
     "execution_count": 67,
     "metadata": {},
     "output_type": "execute_result"
    }
   ],
   "source": [
    "string1.find('l', 10)"
   ]
  },
  {
   "cell_type": "code",
   "execution_count": 68,
   "id": "1fc55d6c-5bb2-412a-8c07-609a15aaa61b",
   "metadata": {},
   "outputs": [
    {
     "data": {
      "text/plain": [
       "2"
      ]
     },
     "execution_count": 68,
     "metadata": {},
     "output_type": "execute_result"
    }
   ],
   "source": [
    "string1.index('l')"
   ]
  },
  {
   "cell_type": "code",
   "execution_count": 69,
   "id": "c2efad1c-f760-4eae-a57e-e28b23648c0c",
   "metadata": {},
   "outputs": [
    {
     "ename": "ValueError",
     "evalue": "substring not found",
     "output_type": "error",
     "traceback": [
      "\u001b[1;31m---------------------------------------------------------------------------\u001b[0m",
      "\u001b[1;31mValueError\u001b[0m                                Traceback (most recent call last)",
      "Cell \u001b[1;32mIn[69], line 1\u001b[0m\n\u001b[1;32m----> 1\u001b[0m \u001b[43mstring1\u001b[49m\u001b[38;5;241;43m.\u001b[39;49m\u001b[43mindex\u001b[49m\u001b[43m(\u001b[49m\u001b[38;5;124;43m'\u001b[39;49m\u001b[38;5;124;43mx\u001b[39;49m\u001b[38;5;124;43m'\u001b[39;49m\u001b[43m)\u001b[49m\n",
      "\u001b[1;31mValueError\u001b[0m: substring not found"
     ]
    }
   ],
   "source": [
    "string1.index('x')"
   ]
  },
  {
   "cell_type": "code",
   "execution_count": 70,
   "id": "dc65336f-628d-4aa5-8ee0-da5e8d1e5fb9",
   "metadata": {},
   "outputs": [
    {
     "data": {
      "text/plain": [
       "9"
      ]
     },
     "execution_count": 70,
     "metadata": {},
     "output_type": "execute_result"
    }
   ],
   "source": [
    "string1.rfind('l')"
   ]
  },
  {
   "cell_type": "code",
   "execution_count": 71,
   "id": "7ec90edf-1d92-477e-8444-cd31243bcf84",
   "metadata": {},
   "outputs": [
    {
     "data": {
      "text/plain": [
       "9"
      ]
     },
     "execution_count": 71,
     "metadata": {},
     "output_type": "execute_result"
    }
   ],
   "source": [
    "string1.rindex('l')"
   ]
  },
  {
   "cell_type": "code",
   "execution_count": 72,
   "id": "0d6c1e01-1b63-4e2d-8876-f3521844c2ad",
   "metadata": {},
   "outputs": [
    {
     "data": {
      "text/plain": [
       "True"
      ]
     },
     "execution_count": 72,
     "metadata": {},
     "output_type": "execute_result"
    }
   ],
   "source": [
    "string1.startswith('He')"
   ]
  },
  {
   "cell_type": "code",
   "execution_count": 73,
   "id": "64088cf6-c901-454c-b32f-0803c1edff73",
   "metadata": {},
   "outputs": [
    {
     "data": {
      "text/plain": [
       "False"
      ]
     },
     "execution_count": 73,
     "metadata": {},
     "output_type": "execute_result"
    }
   ],
   "source": [
    "string1.startswith('ld')"
   ]
  },
  {
   "cell_type": "code",
   "execution_count": 74,
   "id": "3b0fa653-fe06-4ac0-9ba1-05687d2848a2",
   "metadata": {},
   "outputs": [
    {
     "data": {
      "text/plain": [
       "False"
      ]
     },
     "execution_count": 74,
     "metadata": {},
     "output_type": "execute_result"
    }
   ],
   "source": [
    "string1.endswith('He')"
   ]
  },
  {
   "cell_type": "code",
   "execution_count": 75,
   "id": "23213799-cddb-4da9-a8a4-38890951b942",
   "metadata": {},
   "outputs": [
    {
     "data": {
      "text/plain": [
       "True"
      ]
     },
     "execution_count": 75,
     "metadata": {},
     "output_type": "execute_result"
    }
   ],
   "source": [
    "string1.endswith('ld')"
   ]
  },
  {
   "cell_type": "code",
   "execution_count": 76,
   "id": "dbcb673c-4d39-4cab-b5c0-194d36bf47da",
   "metadata": {},
   "outputs": [
    {
     "data": {
      "text/plain": [
       "True"
      ]
     },
     "execution_count": 76,
     "metadata": {},
     "output_type": "execute_result"
    }
   ],
   "source": [
    "'qwerty123'.isalnum()"
   ]
  },
  {
   "cell_type": "code",
   "execution_count": 77,
   "id": "f3248462-dfe7-41b4-9bf0-1723c7dabac7",
   "metadata": {},
   "outputs": [
    {
     "data": {
      "text/plain": [
       "True"
      ]
     },
     "execution_count": 77,
     "metadata": {},
     "output_type": "execute_result"
    }
   ],
   "source": [
    "'12345'.isdigit()"
   ]
  },
  {
   "cell_type": "code",
   "execution_count": 78,
   "id": "f4e207d4-45f3-4294-b088-e31c7b732ef4",
   "metadata": {},
   "outputs": [
    {
     "data": {
      "text/plain": [
       "True"
      ]
     },
     "execution_count": 78,
     "metadata": {},
     "output_type": "execute_result"
    }
   ],
   "source": [
    "'12345'.isnumeric()"
   ]
  },
  {
   "cell_type": "markdown",
   "id": "148a4e3a-7cab-46d1-8ef4-a6475ea1b630",
   "metadata": {},
   "source": [
    "**Cleaning**"
   ]
  },
  {
   "cell_type": "code",
   "execution_count": 80,
   "id": "e0e64c51-e654-47fd-a7f3-f2e832ebcda8",
   "metadata": {},
   "outputs": [
    {
     "data": {
      "text/plain": [
       "'$$$string with dollars$$$$$'"
      ]
     },
     "execution_count": 80,
     "metadata": {},
     "output_type": "execute_result"
    }
   ],
   "source": [
    "'$$$string with dollars$$$$$'"
   ]
  },
  {
   "cell_type": "code",
   "execution_count": 81,
   "id": "da732b3e-b4b4-4b9f-a289-065947580272",
   "metadata": {},
   "outputs": [
    {
     "data": {
      "text/plain": [
       "'string with dollars'"
      ]
     },
     "execution_count": 81,
     "metadata": {},
     "output_type": "execute_result"
    }
   ],
   "source": [
    "string3.strip('$')"
   ]
  },
  {
   "cell_type": "code",
   "execution_count": 82,
   "id": "e9433d04-3c8b-47cb-b042-bd2624da34d8",
   "metadata": {},
   "outputs": [
    {
     "data": {
      "text/plain": [
       "'str$ing wi$th doll$ars'"
      ]
     },
     "execution_count": 82,
     "metadata": {},
     "output_type": "execute_result"
    }
   ],
   "source": [
    "'$$$str$ing wi$th doll$ars$$$$$'.strip('$')"
   ]
  },
  {
   "cell_type": "code",
   "execution_count": 85,
   "id": "52c1287e-ab56-4e46-900d-bb7abc33033b",
   "metadata": {},
   "outputs": [
    {
     "data": {
      "text/plain": [
       "'Hello world'"
      ]
     },
     "execution_count": 85,
     "metadata": {},
     "output_type": "execute_result"
    }
   ],
   "source": [
    "'#$%^* (( $Hello world...%% '.strip('$ .*#%^(')"
   ]
  },
  {
   "cell_type": "code",
   "execution_count": 86,
   "id": "03b5394f-e0d0-4e3d-8263-bd376151e055",
   "metadata": {},
   "outputs": [
    {
     "data": {
      "text/plain": [
       "'HI'"
      ]
     },
     "execution_count": 86,
     "metadata": {},
     "output_type": "execute_result"
    }
   ],
   "source": [
    "'  HI  '.strip()"
   ]
  },
  {
   "cell_type": "code",
   "execution_count": 87,
   "id": "42c9bbae-ceea-45f2-b44e-7a151e123589",
   "metadata": {},
   "outputs": [
    {
     "data": {
      "text/plain": [
       "'$$$string with dollars'"
      ]
     },
     "execution_count": 87,
     "metadata": {},
     "output_type": "execute_result"
    }
   ],
   "source": [
    "string3.rstrip('$')"
   ]
  },
  {
   "cell_type": "code",
   "execution_count": 88,
   "id": "4150a83f-6034-45af-8453-98f154060433",
   "metadata": {},
   "outputs": [
    {
     "data": {
      "text/plain": [
       "'string with dollars$$$$$'"
      ]
     },
     "execution_count": 88,
     "metadata": {},
     "output_type": "execute_result"
    }
   ],
   "source": [
    "string3.lstrip('$')"
   ]
  },
  {
   "cell_type": "code",
   "execution_count": 89,
   "id": "2cbf5886-1587-42bc-bc63-7b6a4c9cc577",
   "metadata": {},
   "outputs": [
    {
     "data": {
      "text/plain": [
       "'Hello world'"
      ]
     },
     "execution_count": 89,
     "metadata": {},
     "output_type": "execute_result"
    }
   ],
   "source": [
    "string1"
   ]
  },
  {
   "cell_type": "code",
   "execution_count": 90,
   "id": "41a4bde9-7414-4a3e-b102-f2814e9b26bb",
   "metadata": {},
   "outputs": [
    {
     "data": {
      "text/plain": [
       "'Hello planet'"
      ]
     },
     "execution_count": 90,
     "metadata": {},
     "output_type": "execute_result"
    }
   ],
   "source": [
    "string1.replace('world', 'planet')"
   ]
  },
  {
   "cell_type": "code",
   "execution_count": 91,
   "id": "e1979e72-20f0-40d3-92e4-d2c0c2a181d1",
   "metadata": {},
   "outputs": [
    {
     "data": {
      "text/plain": [
       "'HeLLo worLd'"
      ]
     },
     "execution_count": 91,
     "metadata": {},
     "output_type": "execute_result"
    }
   ],
   "source": [
    "string1.replace('l', 'L')"
   ]
  },
  {
   "cell_type": "code",
   "execution_count": 92,
   "id": "834c9c49-91aa-4b2e-9be8-eb8557c4dc39",
   "metadata": {},
   "outputs": [
    {
     "data": {
      "text/plain": [
       "'Heo word'"
      ]
     },
     "execution_count": 92,
     "metadata": {},
     "output_type": "execute_result"
    }
   ],
   "source": [
    "string1.replace('l', '')"
   ]
  },
  {
   "cell_type": "code",
   "execution_count": 93,
   "id": "90d909ee-e622-41c5-a286-0e50ae293d0d",
   "metadata": {},
   "outputs": [
    {
     "data": {
      "text/plain": [
       "'string with dollars'"
      ]
     },
     "execution_count": 93,
     "metadata": {},
     "output_type": "execute_result"
    }
   ],
   "source": [
    "'$$$str$ing wi$th doll$ars$$$$$'.replace('$','')"
   ]
  },
  {
   "cell_type": "code",
   "execution_count": 94,
   "id": "c288ed2e-514c-4366-b1bd-11650e835053",
   "metadata": {},
   "outputs": [
    {
     "data": {
      "text/plain": [
       "'string with dollars'"
      ]
     },
     "execution_count": 94,
     "metadata": {},
     "output_type": "execute_result"
    }
   ],
   "source": [
    "'%%%str$ing wi$th doll$ars%%%'.strip('%').replace('$','')"
   ]
  },
  {
   "cell_type": "code",
   "execution_count": 95,
   "id": "ed4af4b6-8c78-49b8-91cb-05e400bb0d21",
   "metadata": {},
   "outputs": [
    {
     "data": {
      "text/plain": [
       "'HeLLo world'"
      ]
     },
     "execution_count": 95,
     "metadata": {},
     "output_type": "execute_result"
    }
   ],
   "source": [
    "string1.replace('l', 'L',2)"
   ]
  },
  {
   "cell_type": "markdown",
   "id": "bdc41765-ab90-4122-b835-aa7a257a46c7",
   "metadata": {},
   "source": [
    "# Format"
   ]
  },
  {
   "cell_type": "code",
   "execution_count": 96,
   "id": "22a19661-b060-4fad-a8ff-70095d8ca8fa",
   "metadata": {},
   "outputs": [],
   "source": [
    "f_string = 'My name is {}. I am {} years old. My salary is {}'"
   ]
  },
  {
   "cell_type": "code",
   "execution_count": 97,
   "id": "69d692c6-e04c-4369-8e46-93fc193551ef",
   "metadata": {},
   "outputs": [
    {
     "data": {
      "text/plain": [
       "'My name is Daria. I am 27 years old. My salary is 5000'"
      ]
     },
     "execution_count": 97,
     "metadata": {},
     "output_type": "execute_result"
    }
   ],
   "source": [
    "f_string.format('Daria', '27', '5000')"
   ]
  },
  {
   "cell_type": "code",
   "execution_count": 98,
   "id": "d245e4a3-f26a-47f7-aee6-6c21592f2689",
   "metadata": {},
   "outputs": [],
   "source": [
    "f_string = 'My name is {1}. I am {0} years old. My salary is {2}'"
   ]
  },
  {
   "cell_type": "code",
   "execution_count": 99,
   "id": "6d0ed462-3c49-4051-96fb-ea99bcdda365",
   "metadata": {},
   "outputs": [
    {
     "data": {
      "text/plain": [
       "'My name is Daria. I am 27 years old. My salary is 5000'"
      ]
     },
     "execution_count": 99,
     "metadata": {},
     "output_type": "execute_result"
    }
   ],
   "source": [
    "f_string.format(27, 'Daria', 5000)"
   ]
  },
  {
   "cell_type": "code",
   "execution_count": 100,
   "id": "6192d0fd-af5f-420d-b2cb-e1b9a0cb2822",
   "metadata": {},
   "outputs": [],
   "source": [
    "f_string = 'My name is {name}. I am {age} years old. My salary is {salary}'"
   ]
  },
  {
   "cell_type": "code",
   "execution_count": 101,
   "id": "fe2c47b5-9728-43d1-80a3-2366b718af04",
   "metadata": {},
   "outputs": [
    {
     "data": {
      "text/plain": [
       "'My name is Daria. I am 27 years old. My salary is 5000'"
      ]
     },
     "execution_count": 101,
     "metadata": {},
     "output_type": "execute_result"
    }
   ],
   "source": [
    "f_string.format(salary=5000, name='Daria', age=27)"
   ]
  },
  {
   "cell_type": "code",
   "execution_count": 102,
   "id": "1c1642c1-f7b2-4268-9cea-e3ddfb84e3b6",
   "metadata": {},
   "outputs": [],
   "source": [
    "n = 'Daria'\n",
    "s = 5000\n",
    "a = 27"
   ]
  },
  {
   "cell_type": "code",
   "execution_count": 103,
   "id": "f9aad2fa-3481-489f-ba00-f10242fb732b",
   "metadata": {},
   "outputs": [
    {
     "data": {
      "text/plain": [
       "'My name is Daria. I am 27 years old. My salary is 5000'"
      ]
     },
     "execution_count": 103,
     "metadata": {},
     "output_type": "execute_result"
    }
   ],
   "source": [
    "f_string.format(salary=s, age=a, name=n)"
   ]
  },
  {
   "cell_type": "code",
   "execution_count": 107,
   "id": "6d2ec40b-28e8-41fb-bbf1-1d7c24fd459d",
   "metadata": {},
   "outputs": [],
   "source": [
    "f_string = 'My name is {name}. I am {age} years old. My salary is {salary:,}'"
   ]
  },
  {
   "cell_type": "code",
   "execution_count": 108,
   "id": "f50dd4e0-d055-404d-8c46-243a6c231bce",
   "metadata": {},
   "outputs": [
    {
     "data": {
      "text/plain": [
       "'My name is Daria. I am 27 years old. My salary is 2,500,500'"
      ]
     },
     "execution_count": 108,
     "metadata": {},
     "output_type": "execute_result"
    }
   ],
   "source": [
    "f_string.format(name='Daria', age=27, salary=2500500)"
   ]
  },
  {
   "cell_type": "markdown",
   "id": "986736d0-cb76-41ed-8b93-a7dfd14b47b5",
   "metadata": {},
   "source": [
    "**Formated string**"
   ]
  },
  {
   "cell_type": "code",
   "execution_count": 110,
   "id": "125fa1ae-e263-45d0-b1b3-02a83c7939a0",
   "metadata": {},
   "outputs": [],
   "source": [
    "total = 21\n",
    "name = 'Andrew'\n",
    "height = 181"
   ]
  },
  {
   "cell_type": "code",
   "execution_count": 111,
   "id": "42fe4af8-5cd9-4ecc-bd88-7f51d5bdeff5",
   "metadata": {},
   "outputs": [],
   "source": [
    "f_string = f'There are {total} students in the class. The heighest of them is {name}. His height is {height}'"
   ]
  },
  {
   "cell_type": "code",
   "execution_count": 112,
   "id": "b1aa6e8b-4a2a-4fe3-8efa-d477e15a5f33",
   "metadata": {},
   "outputs": [
    {
     "data": {
      "text/plain": [
       "'There are 21 students in the class. The heighest of them is Andrew. His height is 181'"
      ]
     },
     "execution_count": 112,
     "metadata": {},
     "output_type": "execute_result"
    }
   ],
   "source": [
    "f_string"
   ]
  },
  {
   "cell_type": "code",
   "execution_count": 113,
   "id": "e0b39efc-248c-409b-b73c-14402aff12ca",
   "metadata": {},
   "outputs": [],
   "source": [
    "leg1 = 4\n",
    "leg2 = 7"
   ]
  },
  {
   "cell_type": "code",
   "execution_count": 114,
   "id": "0aec738c-7b8d-4019-a160-0da2760a3f14",
   "metadata": {},
   "outputs": [],
   "source": [
    "triangle = f'The square of hypotenuse of the triangle with legs: {leg1} and {leg2} is {leg1**2 + leg2**2} cm'"
   ]
  },
  {
   "cell_type": "code",
   "execution_count": 115,
   "id": "e03245fb-804c-4a71-b461-061c32bbe3c1",
   "metadata": {},
   "outputs": [
    {
     "data": {
      "text/plain": [
       "'The square of hypotenuse of the triangle with legs: 4 and 7 is 65 cm'"
      ]
     },
     "execution_count": 115,
     "metadata": {},
     "output_type": "execute_result"
    }
   ],
   "source": [
    "triangle"
   ]
  },
  {
   "cell_type": "code",
   "execution_count": 116,
   "id": "c7b1cd4f-dcd7-4282-bdce-8ad2101eed3e",
   "metadata": {},
   "outputs": [],
   "source": [
    "name = 'daria'"
   ]
  },
  {
   "cell_type": "code",
   "execution_count": 118,
   "id": "68850f2d-0d4c-4484-a843-d0b6297ce00d",
   "metadata": {},
   "outputs": [
    {
     "data": {
      "text/plain": [
       "'My name is Daria'"
      ]
     },
     "execution_count": 118,
     "metadata": {},
     "output_type": "execute_result"
    }
   ],
   "source": [
    "f'My name is {name.title()}'"
   ]
  },
  {
   "cell_type": "markdown",
   "id": "d167a2ad-d2dc-4912-90d1-8696cd5ef19c",
   "metadata": {},
   "source": [
    "# Byte string"
   ]
  },
  {
   "cell_type": "code",
   "execution_count": 119,
   "id": "0dc3327e-6c59-4b49-a71f-8891d0a7b722",
   "metadata": {},
   "outputs": [
    {
     "data": {
      "text/plain": [
       "'Hello world'"
      ]
     },
     "execution_count": 119,
     "metadata": {},
     "output_type": "execute_result"
    }
   ],
   "source": [
    "string1"
   ]
  },
  {
   "cell_type": "code",
   "execution_count": 120,
   "id": "635ec290-4150-48ce-a62c-bbaf582675e2",
   "metadata": {},
   "outputs": [],
   "source": [
    "byte_string = string1.encode('utf32')"
   ]
  },
  {
   "cell_type": "code",
   "execution_count": 121,
   "id": "c553eaf9-3039-4987-be9c-ef1e5cb59c1b",
   "metadata": {},
   "outputs": [
    {
     "data": {
      "text/plain": [
       "b'\\xff\\xfe\\x00\\x00H\\x00\\x00\\x00e\\x00\\x00\\x00l\\x00\\x00\\x00l\\x00\\x00\\x00o\\x00\\x00\\x00 \\x00\\x00\\x00w\\x00\\x00\\x00o\\x00\\x00\\x00r\\x00\\x00\\x00l\\x00\\x00\\x00d\\x00\\x00\\x00'"
      ]
     },
     "execution_count": 121,
     "metadata": {},
     "output_type": "execute_result"
    }
   ],
   "source": [
    "byte_string"
   ]
  },
  {
   "cell_type": "code",
   "execution_count": 122,
   "id": "79e412f8-aecc-4b45-a42b-6c3a0843e9fd",
   "metadata": {},
   "outputs": [
    {
     "data": {
      "text/plain": [
       "'Hello world'"
      ]
     },
     "execution_count": 122,
     "metadata": {},
     "output_type": "execute_result"
    }
   ],
   "source": [
    "byte_string.decode('utf32')"
   ]
  },
  {
   "cell_type": "code",
   "execution_count": 124,
   "id": "67479823-638d-455e-b369-30390658f255",
   "metadata": {},
   "outputs": [
    {
     "data": {
      "text/plain": [
       "'-------------------Hello world--------------------'"
      ]
     },
     "execution_count": 124,
     "metadata": {},
     "output_type": "execute_result"
    }
   ],
   "source": [
    "string1.center(50, '-')"
   ]
  },
  {
   "cell_type": "code",
   "execution_count": 125,
   "id": "4ac4c216-24e6-4087-a062-6806cf865985",
   "metadata": {},
   "outputs": [
    {
     "data": {
      "text/plain": [
       "'000000000000000000000000000000000000000Hello world'"
      ]
     },
     "execution_count": 125,
     "metadata": {},
     "output_type": "execute_result"
    }
   ],
   "source": [
    "string1.zfill(50)"
   ]
  },
  {
   "cell_type": "code",
   "execution_count": null,
   "id": "674185ef-df4c-415c-a08a-96486c311244",
   "metadata": {},
   "outputs": [],
   "source": []
  }
 ],
 "metadata": {
  "kernelspec": {
   "display_name": "Python 3 (ipykernel)",
   "language": "python",
   "name": "python3"
  },
  "language_info": {
   "codemirror_mode": {
    "name": "ipython",
    "version": 3
   },
   "file_extension": ".py",
   "mimetype": "text/x-python",
   "name": "python",
   "nbconvert_exporter": "python",
   "pygments_lexer": "ipython3",
   "version": "3.11.1"
  }
 },
 "nbformat": 4,
 "nbformat_minor": 5
}
